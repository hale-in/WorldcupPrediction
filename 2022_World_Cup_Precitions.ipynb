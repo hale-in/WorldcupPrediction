{
  "cells": [
    {
      "cell_type": "markdown",
      "metadata": {
        "id": "view-in-github",
        "colab_type": "text"
      },
      "source": [
        "<a href=\"https://colab.research.google.com/github/hale-in/WorldcupPrediction/blob/main/2022_World_Cup_Precitions.ipynb\" target=\"_parent\"><img src=\"https://colab.research.google.com/assets/colab-badge.svg\" alt=\"Open In Colab\"/></a>"
      ]
    },
    {
      "cell_type": "markdown",
      "metadata": {
        "id": "z8JmYdLKc1G5"
      },
      "source": [
        "# Predicting South Korea's probability to go to the tournament stage\n",
        "\n",
        "## Background\n",
        "머신러닝으로 문제를 해결하는 큰 흐름은 다음과 같습니다.\n",
        "\n",
        "1. 문제 정의\n",
        "    - 어떤 문제를 풀 것인지, 또는 어떤 궁금증을 해결하고 싶은지 최대한 명확하게 기술합니다. \n",
        "    - 예를 들어보겠습니다. “우리나라는 2022년에 월드컵에서 만족스러운 성적을 거둘 수 있을까?”, “우리나라가 2022년 월드컵에서 16강에 진출할 확률은 얼마나 될까?” 두 개의 문제 정의 중 더 적절한 것은 무엇일까요? \n",
        "    - 문제 해결 관점에서 “만족스러운 성적”은 주관적인 기준이기 때문에, 후자가 더 적절한 문제 정의입니다.\n",
        "\n",
        "2. 데이터 수집\n",
        "    - 문제를 해결하기 위해 관련된 데이터를 수집합니다. \n",
        "\n",
        "3. EDA\n",
        "    - Exploratory Data Analysis의 약자입니다.\n",
        "\n",
        "4. 데이터 전처리\n",
        "    - 데이터 전처리는 수집한 데이터를 머신러닝 모델 학습에 알맞게 바꾸는 과정입니다.  \n",
        "    - 수집한 데이터에는 노이즈가 있을 수 있습니다. \n",
        "    - 예를 들어, 텍스트 데이터라면 오타, 맞춤법 오류 등이 있을 수 있고, 수집 과정에서 실수로 인해 엉뚱한 데이터가 있을 수 있습니다. \n",
        "    - 노이즈가 있는 데이터는 머신러닝의 성능을 악화시킬 수 있으므로, 그 수를 최소화할 필요가 있습니다.\n",
        "\n",
        "5. 모델 학습\n",
        "\n",
        "6. 모델 평가\n",
        "\n",
        "7. 모델 조정\n",
        "\n",
        "8. 최종 결과 산출"
      ]
    },
    {
      "cell_type": "markdown",
      "metadata": {
        "id": "MHerFuYugQzP"
      },
      "source": [
        "## 1. 문제 정의"
      ]
    },
    {
      "cell_type": "markdown",
      "metadata": {
        "id": "RFZyF1IZhMm_"
      },
      "source": [
        "## 2. 데이터 수집\n",
        "데이터 수집 과정은 상단에서서 설명한 모든 과정에서 가장 오래 걸리고 반복적인 과정이라고 할 수 있습니다. \n",
        "\n",
        "Kaggle, 데이콘, 통계청 등 데이터셋을 공개해주는 플랫폼에서 데이터를 가져와서 사용한다면, 데이터 수집 비용을 줄일 수 있습니다.\n",
        "한 가지 단점은 풀려고 하는 문제가 ()한 문제일 수록, 직접적인 데이터셋을 찾는 건 힘들 수도 있다는 점입니다.\n",
        "\n",
        "월드컵 관련 데이터의 경우, 과거에 여러 번 연구가 진행된 적이 있고, 사람들의 관심도 많이 받는 편이라서 데이터를 구하기가 비교적 수월했습니다.\n"
      ]
    },
    {
      "cell_type": "markdown",
      "metadata": {
        "id": "SRCTtnrIxyXb"
      },
      "source": [
        "Kaggle API를 사용해서 데이터셋을 다운 받아오겠습니다.\n",
        "\n",
        "https://www.kaggle.com/general/74235"
      ]
    },
    {
      "cell_type": "code",
      "execution_count": null,
      "metadata": {
        "id": "SgGdqnAjc0IB"
      },
      "outputs": [],
      "source": [
        "!pip install -q kaggle"
      ]
    },
    {
      "cell_type": "code",
      "execution_count": null,
      "metadata": {
        "colab": {
          "base_uri": "https://localhost:8080/",
          "height": 95
        },
        "id": "p5EbI6fHimyx",
        "outputId": "de0d6402-b824-4002-ffce-188e027df633"
      },
      "outputs": [
        {
          "output_type": "display_data",
          "data": {
            "text/plain": [
              "<IPython.core.display.HTML object>"
            ],
            "text/html": [
              "\n",
              "     <input type=\"file\" id=\"files-53a3bed0-db17-4988-8b9d-2e88f9eda032\" name=\"files[]\" multiple disabled\n",
              "        style=\"border:none\" />\n",
              "     <output id=\"result-53a3bed0-db17-4988-8b9d-2e88f9eda032\">\n",
              "      Upload widget is only available when the cell has been executed in the\n",
              "      current browser session. Please rerun this cell to enable.\n",
              "      </output>\n",
              "      <script>// Copyright 2017 Google LLC\n",
              "//\n",
              "// Licensed under the Apache License, Version 2.0 (the \"License\");\n",
              "// you may not use this file except in compliance with the License.\n",
              "// You may obtain a copy of the License at\n",
              "//\n",
              "//      http://www.apache.org/licenses/LICENSE-2.0\n",
              "//\n",
              "// Unless required by applicable law or agreed to in writing, software\n",
              "// distributed under the License is distributed on an \"AS IS\" BASIS,\n",
              "// WITHOUT WARRANTIES OR CONDITIONS OF ANY KIND, either express or implied.\n",
              "// See the License for the specific language governing permissions and\n",
              "// limitations under the License.\n",
              "\n",
              "/**\n",
              " * @fileoverview Helpers for google.colab Python module.\n",
              " */\n",
              "(function(scope) {\n",
              "function span(text, styleAttributes = {}) {\n",
              "  const element = document.createElement('span');\n",
              "  element.textContent = text;\n",
              "  for (const key of Object.keys(styleAttributes)) {\n",
              "    element.style[key] = styleAttributes[key];\n",
              "  }\n",
              "  return element;\n",
              "}\n",
              "\n",
              "// Max number of bytes which will be uploaded at a time.\n",
              "const MAX_PAYLOAD_SIZE = 100 * 1024;\n",
              "\n",
              "function _uploadFiles(inputId, outputId) {\n",
              "  const steps = uploadFilesStep(inputId, outputId);\n",
              "  const outputElement = document.getElementById(outputId);\n",
              "  // Cache steps on the outputElement to make it available for the next call\n",
              "  // to uploadFilesContinue from Python.\n",
              "  outputElement.steps = steps;\n",
              "\n",
              "  return _uploadFilesContinue(outputId);\n",
              "}\n",
              "\n",
              "// This is roughly an async generator (not supported in the browser yet),\n",
              "// where there are multiple asynchronous steps and the Python side is going\n",
              "// to poll for completion of each step.\n",
              "// This uses a Promise to block the python side on completion of each step,\n",
              "// then passes the result of the previous step as the input to the next step.\n",
              "function _uploadFilesContinue(outputId) {\n",
              "  const outputElement = document.getElementById(outputId);\n",
              "  const steps = outputElement.steps;\n",
              "\n",
              "  const next = steps.next(outputElement.lastPromiseValue);\n",
              "  return Promise.resolve(next.value.promise).then((value) => {\n",
              "    // Cache the last promise value to make it available to the next\n",
              "    // step of the generator.\n",
              "    outputElement.lastPromiseValue = value;\n",
              "    return next.value.response;\n",
              "  });\n",
              "}\n",
              "\n",
              "/**\n",
              " * Generator function which is called between each async step of the upload\n",
              " * process.\n",
              " * @param {string} inputId Element ID of the input file picker element.\n",
              " * @param {string} outputId Element ID of the output display.\n",
              " * @return {!Iterable<!Object>} Iterable of next steps.\n",
              " */\n",
              "function* uploadFilesStep(inputId, outputId) {\n",
              "  const inputElement = document.getElementById(inputId);\n",
              "  inputElement.disabled = false;\n",
              "\n",
              "  const outputElement = document.getElementById(outputId);\n",
              "  outputElement.innerHTML = '';\n",
              "\n",
              "  const pickedPromise = new Promise((resolve) => {\n",
              "    inputElement.addEventListener('change', (e) => {\n",
              "      resolve(e.target.files);\n",
              "    });\n",
              "  });\n",
              "\n",
              "  const cancel = document.createElement('button');\n",
              "  inputElement.parentElement.appendChild(cancel);\n",
              "  cancel.textContent = 'Cancel upload';\n",
              "  const cancelPromise = new Promise((resolve) => {\n",
              "    cancel.onclick = () => {\n",
              "      resolve(null);\n",
              "    };\n",
              "  });\n",
              "\n",
              "  // Wait for the user to pick the files.\n",
              "  const files = yield {\n",
              "    promise: Promise.race([pickedPromise, cancelPromise]),\n",
              "    response: {\n",
              "      action: 'starting',\n",
              "    }\n",
              "  };\n",
              "\n",
              "  cancel.remove();\n",
              "\n",
              "  // Disable the input element since further picks are not allowed.\n",
              "  inputElement.disabled = true;\n",
              "\n",
              "  if (!files) {\n",
              "    return {\n",
              "      response: {\n",
              "        action: 'complete',\n",
              "      }\n",
              "    };\n",
              "  }\n",
              "\n",
              "  for (const file of files) {\n",
              "    const li = document.createElement('li');\n",
              "    li.append(span(file.name, {fontWeight: 'bold'}));\n",
              "    li.append(span(\n",
              "        `(${file.type || 'n/a'}) - ${file.size} bytes, ` +\n",
              "        `last modified: ${\n",
              "            file.lastModifiedDate ? file.lastModifiedDate.toLocaleDateString() :\n",
              "                                    'n/a'} - `));\n",
              "    const percent = span('0% done');\n",
              "    li.appendChild(percent);\n",
              "\n",
              "    outputElement.appendChild(li);\n",
              "\n",
              "    const fileDataPromise = new Promise((resolve) => {\n",
              "      const reader = new FileReader();\n",
              "      reader.onload = (e) => {\n",
              "        resolve(e.target.result);\n",
              "      };\n",
              "      reader.readAsArrayBuffer(file);\n",
              "    });\n",
              "    // Wait for the data to be ready.\n",
              "    let fileData = yield {\n",
              "      promise: fileDataPromise,\n",
              "      response: {\n",
              "        action: 'continue',\n",
              "      }\n",
              "    };\n",
              "\n",
              "    // Use a chunked sending to avoid message size limits. See b/62115660.\n",
              "    let position = 0;\n",
              "    do {\n",
              "      const length = Math.min(fileData.byteLength - position, MAX_PAYLOAD_SIZE);\n",
              "      const chunk = new Uint8Array(fileData, position, length);\n",
              "      position += length;\n",
              "\n",
              "      const base64 = btoa(String.fromCharCode.apply(null, chunk));\n",
              "      yield {\n",
              "        response: {\n",
              "          action: 'append',\n",
              "          file: file.name,\n",
              "          data: base64,\n",
              "        },\n",
              "      };\n",
              "\n",
              "      let percentDone = fileData.byteLength === 0 ?\n",
              "          100 :\n",
              "          Math.round((position / fileData.byteLength) * 100);\n",
              "      percent.textContent = `${percentDone}% done`;\n",
              "\n",
              "    } while (position < fileData.byteLength);\n",
              "  }\n",
              "\n",
              "  // All done.\n",
              "  yield {\n",
              "    response: {\n",
              "      action: 'complete',\n",
              "    }\n",
              "  };\n",
              "}\n",
              "\n",
              "scope.google = scope.google || {};\n",
              "scope.google.colab = scope.google.colab || {};\n",
              "scope.google.colab._files = {\n",
              "  _uploadFiles,\n",
              "  _uploadFilesContinue,\n",
              "};\n",
              "})(self);\n",
              "</script> "
            ]
          },
          "metadata": {}
        },
        {
          "output_type": "stream",
          "name": "stdout",
          "text": [
            "Saving kaggle.json to kaggle.json\n"
          ]
        },
        {
          "output_type": "execute_result",
          "data": {
            "text/plain": [
              "{'kaggle.json': b'{\"username\":\"scottsuk0306\",\"key\":\"cc9f18d735fa9903442453bdc265e72c\"}'}"
            ]
          },
          "metadata": {},
          "execution_count": 2
        }
      ],
      "source": [
        "from google.colab import files\n",
        "files.upload()"
      ]
    },
    {
      "cell_type": "code",
      "execution_count": null,
      "metadata": {
        "id": "EDE8jCEmir6l"
      },
      "outputs": [],
      "source": [
        "!mkdir ~/.kaggle"
      ]
    },
    {
      "cell_type": "code",
      "execution_count": null,
      "metadata": {
        "id": "r7FXHSnawo__"
      },
      "outputs": [],
      "source": [
        "!cp kaggle.json ~/.kaggle/"
      ]
    },
    {
      "cell_type": "code",
      "execution_count": null,
      "metadata": {
        "id": "rUoXlbGTwt3F"
      },
      "outputs": [],
      "source": [
        "! chmod 600 ~/.kaggle/kaggle.json"
      ]
    },
    {
      "cell_type": "markdown",
      "metadata": {
        "id": "p3aVJrSGdPg8"
      },
      "source": [
        "\n",
        "**brenda89/fifa-world-cup-2022**\n",
        "\n",
        "- 1993년부터 2022년 6월까지 있었던 모든 국제 경기를 모은 데이터셋입니다. "
      ]
    },
    {
      "cell_type": "code",
      "execution_count": null,
      "metadata": {
        "id": "LUWwgxy9xn6J",
        "colab": {
          "base_uri": "https://localhost:8080/"
        },
        "outputId": "d8e041af-c53c-4db7-8907-467b589be29a"
      },
      "outputs": [
        {
          "output_type": "stream",
          "name": "stdout",
          "text": [
            "Downloading fifa-world-cup-2022.zip to /content\n",
            "\r  0% 0.00/611k [00:00<?, ?B/s]\n",
            "\r100% 611k/611k [00:00<00:00, 83.0MB/s]\n"
          ]
        }
      ],
      "source": [
        "!kaggle datasets download brenda89/fifa-world-cup-2022"
      ]
    },
    {
      "cell_type": "code",
      "execution_count": null,
      "metadata": {
        "id": "PlabDfsfyB3g",
        "colab": {
          "base_uri": "https://localhost:8080/"
        },
        "outputId": "a5fd870e-3f25-470a-860e-11c331fa5094"
      },
      "outputs": [
        {
          "output_type": "stream",
          "name": "stdout",
          "text": [
            "Archive:  fifa-world-cup-2022.zip\n",
            "  inflating: international_matches.csv  \n"
          ]
        }
      ],
      "source": [
        "!unzip fifa-world-cup-2022.zip"
      ]
    },
    {
      "cell_type": "markdown",
      "metadata": {
        "id": "vBOSiuildd5H"
      },
      "source": [
        "\n",
        "**2022-fifa-worldcup-qatar-full-live-dataset**\n",
        "\n",
        "- FIFA 2022 게임 내 선수 능력치, 연봉, 포지션 등 선수 데이터셋과 카타르 2022년 팀 스쿼드 데이터셋입니다."
      ]
    },
    {
      "cell_type": "code",
      "execution_count": null,
      "metadata": {
        "id": "t-ogG9-l00Gj",
        "colab": {
          "base_uri": "https://localhost:8080/"
        },
        "outputId": "63b1ed02-2e9c-4f1f-9069-f641bee820b0"
      },
      "outputs": [
        {
          "output_type": "stream",
          "name": "stdout",
          "text": [
            "Downloading 2022-fifa-worldcup-qatar-full-live-dataset.zip to /content\n",
            "\r  0% 0.00/2.08M [00:00<?, ?B/s]\n",
            "\r100% 2.08M/2.08M [00:00<00:00, 136MB/s]\n"
          ]
        }
      ],
      "source": [
        "!kaggle datasets download muhammad4hmed/2022-fifa-worldcup-qatar-full-live-dataset"
      ]
    },
    {
      "cell_type": "code",
      "execution_count": null,
      "metadata": {
        "id": "mNlDc1Km04pL",
        "colab": {
          "base_uri": "https://localhost:8080/"
        },
        "outputId": "50f725bc-2631-47d2-916a-09a80148f861"
      },
      "outputs": [
        {
          "output_type": "stream",
          "name": "stdout",
          "text": [
            "Archive:  2022-fifa-worldcup-qatar-full-live-dataset.zip\n",
            "  inflating: 2022_Squad (Updates every week)/Argentina.csv  \n",
            "  inflating: 2022_Squad (Updates every week)/Australia.csv  \n",
            "  inflating: 2022_Squad (Updates every week)/Belgium.csv  \n",
            "  inflating: 2022_Squad (Updates every week)/Brazil.csv  \n",
            "  inflating: 2022_Squad (Updates every week)/Cameroon.csv  \n",
            "  inflating: 2022_Squad (Updates every week)/Canada.csv  \n",
            "  inflating: 2022_Squad (Updates every week)/Costa-Rica.csv  \n",
            "  inflating: 2022_Squad (Updates every week)/Croatia.csv  \n",
            "  inflating: 2022_Squad (Updates every week)/Denmark.csv  \n",
            "  inflating: 2022_Squad (Updates every week)/Ecuador.csv  \n",
            "  inflating: 2022_Squad (Updates every week)/England.csv  \n",
            "  inflating: 2022_Squad (Updates every week)/France.csv  \n",
            "  inflating: 2022_Squad (Updates every week)/Germany.csv  \n",
            "  inflating: 2022_Squad (Updates every week)/Ghana.csv  \n",
            "  inflating: 2022_Squad (Updates every week)/IR Iran.csv  \n",
            "  inflating: 2022_Squad (Updates every week)/IR-Iran.csv  \n",
            "  inflating: 2022_Squad (Updates every week)/Japan.csv  \n",
            "  inflating: 2022_Squad (Updates every week)/Mexico.csv  \n",
            "  inflating: 2022_Squad (Updates every week)/Morocco.csv  \n",
            "  inflating: 2022_Squad (Updates every week)/Netherlands.csv  \n",
            "  inflating: 2022_Squad (Updates every week)/Poland.csv  \n",
            "  inflating: 2022_Squad (Updates every week)/Portugal.csv  \n",
            "  inflating: 2022_Squad (Updates every week)/Qatar.csv  \n",
            "  inflating: 2022_Squad (Updates every week)/Saudi-Arabia.csv  \n",
            "  inflating: 2022_Squad (Updates every week)/Senegal.csv  \n",
            "  inflating: 2022_Squad (Updates every week)/Serbia.csv  \n",
            "  inflating: 2022_Squad (Updates every week)/Spain.csv  \n",
            "  inflating: 2022_Squad (Updates every week)/Switzerland.csv  \n",
            "  inflating: 2022_Squad (Updates every week)/Tunisia.csv  \n",
            "  inflating: 2022_Squad (Updates every week)/USA.csv  \n",
            "  inflating: 2022_Squad (Updates every week)/Uruguay.csv  \n",
            "  inflating: 2022_Squad (Updates every week)/Wales.csv  \n",
            "  inflating: 2022_Squad (Updates every week)/south-korea.csv  \n",
            "  inflating: Fifa_Worldcup_2022_Groups.csv  \n",
            "  inflating: International_Football_History_Countries/Argentina/Opponents_History.csv  \n",
            "  inflating: International_Football_History_Countries/Argentina/Worldcups_History.csv  \n",
            "  inflating: International_Football_History_Countries/Australia/Opponents_History.csv  \n",
            "  inflating: International_Football_History_Countries/Australia/Worldcups_History.csv  \n",
            "  inflating: International_Football_History_Countries/Belgium/Opponents_History.csv  \n",
            "  inflating: International_Football_History_Countries/Belgium/Worldcups_History.csv  \n",
            "  inflating: International_Football_History_Countries/Brazil/Opponents_History.csv  \n",
            "  inflating: International_Football_History_Countries/Brazil/Worldcups_History.csv  \n",
            "  inflating: International_Football_History_Countries/Cameroon/Opponents_History.csv  \n",
            "  inflating: International_Football_History_Countries/Cameroon/Worldcups_History.csv  \n",
            "  inflating: International_Football_History_Countries/Canada/Opponents_History.csv  \n",
            "  inflating: International_Football_History_Countries/Canada/Worldcups_History.csv  \n",
            "  inflating: International_Football_History_Countries/Costa Rica/Opponents_History.csv  \n",
            "  inflating: International_Football_History_Countries/Costa Rica/Worldcups_History.csv  \n",
            "  inflating: International_Football_History_Countries/Croatia/Opponents_History.csv  \n",
            "  inflating: International_Football_History_Countries/Croatia/Worldcups_History.csv  \n",
            "  inflating: International_Football_History_Countries/Denmark/Opponents_History.csv  \n",
            "  inflating: International_Football_History_Countries/Denmark/Worldcups_History.csv  \n",
            "  inflating: International_Football_History_Countries/Ecuador/Opponents_History.csv  \n",
            "  inflating: International_Football_History_Countries/Ecuador/Worldcups_History.csv  \n",
            "  inflating: International_Football_History_Countries/England/Opponents_History.csv  \n",
            "  inflating: International_Football_History_Countries/England/Worldcups_History.csv  \n",
            "  inflating: International_Football_History_Countries/France/Opponents_History.csv  \n",
            "  inflating: International_Football_History_Countries/France/Worldcups_History.csv  \n",
            "  inflating: International_Football_History_Countries/Germany/Opponents_History.csv  \n",
            "  inflating: International_Football_History_Countries/Germany/Worldcups_History.csv  \n",
            "  inflating: International_Football_History_Countries/Ghana/Opponents_History.csv  \n",
            "  inflating: International_Football_History_Countries/Ghana/Worldcups_History.csv  \n",
            "  inflating: International_Football_History_Countries/IR Iran/Opponents_History.csv  \n",
            "  inflating: International_Football_History_Countries/IR Iran/Worldcups_History.csv  \n",
            "  inflating: International_Football_History_Countries/Japan/Opponents_History.csv  \n",
            "  inflating: International_Football_History_Countries/Japan/Worldcups_History.csv  \n",
            "  inflating: International_Football_History_Countries/Korea Republic/Opponents_History.csv  \n",
            "  inflating: International_Football_History_Countries/Korea Republic/Worldcups_History.csv  \n",
            "  inflating: International_Football_History_Countries/Mexico/Opponents_History.csv  \n",
            "  inflating: International_Football_History_Countries/Mexico/Worldcups_History.csv  \n",
            "  inflating: International_Football_History_Countries/Morocco/Opponents_History.csv  \n",
            "  inflating: International_Football_History_Countries/Morocco/Worldcups_History.csv  \n",
            "  inflating: International_Football_History_Countries/Netherlands/Opponents_History.csv  \n",
            "  inflating: International_Football_History_Countries/Netherlands/Worldcups_History.csv  \n",
            "  inflating: International_Football_History_Countries/Poland/Opponents_History.csv  \n",
            "  inflating: International_Football_History_Countries/Poland/Worldcups_History.csv  \n",
            "  inflating: International_Football_History_Countries/Portugal/Opponents_History.csv  \n",
            "  inflating: International_Football_History_Countries/Portugal/Worldcups_History.csv  \n",
            "  inflating: International_Football_History_Countries/Qatar/Opponents_History.csv  \n",
            "  inflating: International_Football_History_Countries/Qatar/Worldcups_History.csv  \n",
            "  inflating: International_Football_History_Countries/Saudi Arabia/Opponents_History.csv  \n",
            "  inflating: International_Football_History_Countries/Saudi Arabia/Worldcups_History.csv  \n",
            "  inflating: International_Football_History_Countries/Senegal/Opponents_History.csv  \n",
            "  inflating: International_Football_History_Countries/Senegal/Worldcups_History.csv  \n",
            "  inflating: International_Football_History_Countries/Serbia/Opponents_History.csv  \n",
            "  inflating: International_Football_History_Countries/Serbia/Worldcups_History.csv  \n",
            "  inflating: International_Football_History_Countries/Spain/Opponents_History.csv  \n",
            "  inflating: International_Football_History_Countries/Spain/Worldcups_History.csv  \n",
            "  inflating: International_Football_History_Countries/Switzerland/Opponents_History.csv  \n",
            "  inflating: International_Football_History_Countries/Switzerland/Worldcups_History.csv  \n",
            "  inflating: International_Football_History_Countries/Tunisia/Opponents_History.csv  \n",
            "  inflating: International_Football_History_Countries/Tunisia/Worldcups_History.csv  \n",
            "  inflating: International_Football_History_Countries/United States/Opponents_History.csv  \n",
            "  inflating: International_Football_History_Countries/United States/Worldcups_History.csv  \n",
            "  inflating: International_Football_History_Countries/Uruguay/Opponents_History.csv  \n",
            "  inflating: International_Football_History_Countries/Uruguay/Worldcups_History.csv  \n",
            "  inflating: International_Football_History_Countries/Wales/Opponents_History.csv  \n",
            "  inflating: International_Football_History_Countries/Wales/Worldcups_History.csv  \n",
            "  inflating: Players_Data_2022/FIFA22_official_data.csv  \n"
          ]
        }
      ],
      "source": [
        "!unzip 2022-fifa-worldcup-qatar-full-live-dataset.zip"
      ]
    },
    {
      "cell_type": "code",
      "execution_count": null,
      "metadata": {
        "id": "hRI-TvszM4Mx",
        "colab": {
          "base_uri": "https://localhost:8080/"
        },
        "outputId": "5227124d-bc42-414c-e9ab-93a1bce37200"
      },
      "outputs": [
        {
          "output_type": "stream",
          "name": "stdout",
          "text": [
            "ref                                                       title                                              size  lastUpdated          downloadCount  voteCount  usabilityRating  \n",
            "--------------------------------------------------------  ------------------------------------------------  -----  -------------------  -------------  ---------  ---------------  \n",
            "amineteffal/qatar2022worldcupschudule                     Qatar 2022 Football World Cup                       8KB  2022-06-20 09:25:05            501         22  1.0              \n",
            "muhammad4hmed/2022-fifa-worldcup-qatar-full-live-dataset  2022 FIFA Worldcup Qatar FULL LIVE DATASET          2MB  2022-10-08 13:52:19            172         19  1.0              \n",
            "brenda89/fifa-world-cup-2022                              FIFA World Cup 2022 ⚽️🏆                           611KB  2022-08-28 11:38:08           2755         79  1.0              \n",
            "evangower/fifa-world-cup                                  FIFA World Cup                                     15KB  2022-08-31 12:43:41            920         44  1.0              \n",
            "iamsouravbanerjee/fifa-football-world-cup-dataset         FIFA - Football World Cup Dataset                  12KB  2022-07-17 10:50:31           2043         66  1.0              \n",
            "tawsifurrahman/aseptic-loose-hip-implant-xray-database    Aseptic Loose Hip Implant X-Ray Database            7MB  2022-01-22 19:57:39             49          3  0.875            \n",
            "yazanqiblawey/sars-mers-xray-images-dataset               COVID-19, SARS, MERS X-ray Images Dataset          17MB  2022-01-12 10:00:13            110          8  0.5625           \n",
            "aysendegerli/qatacov19-dataset                            QaTa-COV19 Dataset                                  5GB  2022-02-22 11:03:13            679         31  0.625            \n",
            "mbelal101/qatar2022                                       Some tweets related to FIFA World Cup Qatar 2022   34MB  2022-09-30 07:56:09             41          0  0.5294118        \n",
            "ahmedklabi/ooredoostockprice                              ooredoo Stocks Prices                              53KB  2022-03-29 22:29:52              4          1  0.5882353        \n"
          ]
        }
      ],
      "source": [
        "!kaggle datasets list -s \"Qatar 2022\""
      ]
    },
    {
      "cell_type": "markdown",
      "metadata": {
        "id": "GXV3lfrqd-kE"
      },
      "source": [
        "\n",
        "**amineteffal/qatar2022worldcupschudule**\n",
        "\n",
        "- 2022년 카타르 월드컵 일정 및 조 데이터 셋입니다.\n",
        "\n"
      ]
    },
    {
      "cell_type": "code",
      "execution_count": null,
      "metadata": {
        "id": "-MhViseHMMSU",
        "colab": {
          "base_uri": "https://localhost:8080/"
        },
        "outputId": "68f9685f-adc4-4998-d6cf-9183da3acc99"
      },
      "outputs": [
        {
          "output_type": "stream",
          "name": "stdout",
          "text": [
            "Downloading qatar2022worldcupschudule.zip to /content\n",
            "\r  0% 0.00/7.92k [00:00<?, ?B/s]\n",
            "\r100% 7.92k/7.92k [00:00<00:00, 4.82MB/s]\n"
          ]
        }
      ],
      "source": [
        "!kaggle datasets download amineteffal/qatar2022worldcupschudule "
      ]
    },
    {
      "cell_type": "code",
      "execution_count": null,
      "metadata": {
        "id": "PyeML7TvMMu-",
        "colab": {
          "base_uri": "https://localhost:8080/"
        },
        "outputId": "489ab821-9409-434c-ce55-dbaaa6857451"
      },
      "outputs": [
        {
          "output_type": "stream",
          "name": "stdout",
          "text": [
            "Archive:  qatar2022worldcupschudule.zip\n",
            "  inflating: Qatar2022-teams.csv     \n",
            "  inflating: historical_win-loose-draw_ratios_qatar2022_teams.csv  \n",
            "  inflating: matchs-schudule.csv     \n"
          ]
        }
      ],
      "source": [
        "!unzip qatar2022worldcupschudule.zip"
      ]
    },
    {
      "cell_type": "markdown",
      "metadata": {
        "id": "IXdVnHOaePNk"
      },
      "source": [
        "\n",
        "**cashncarry/fifaworldranking**\n",
        "\n",
        "- 2022년 8월 25일까지 업데이트된 피파 랭킹 데이터셋입니다.\n",
        "\n"
      ]
    },
    {
      "cell_type": "code",
      "execution_count": null,
      "metadata": {
        "id": "1exwLRyBT7pK",
        "colab": {
          "base_uri": "https://localhost:8080/"
        },
        "outputId": "abf9168e-a215-41ac-8a32-f8b97c5d8584"
      },
      "outputs": [
        {
          "output_type": "stream",
          "name": "stdout",
          "text": [
            "Downloading fifaworldranking.zip to /content\n",
            "\r  0% 0.00/530k [00:00<?, ?B/s]\n",
            "\r100% 530k/530k [00:00<00:00, 84.6MB/s]\n"
          ]
        }
      ],
      "source": [
        "!kaggle datasets download cashncarry/fifaworldranking "
      ]
    },
    {
      "cell_type": "code",
      "execution_count": null,
      "metadata": {
        "id": "YrYd-uYRT_t9",
        "colab": {
          "base_uri": "https://localhost:8080/"
        },
        "outputId": "038555ce-128c-4b31-d83c-846dac339e61"
      },
      "outputs": [
        {
          "output_type": "stream",
          "name": "stdout",
          "text": [
            "Archive:  fifaworldranking.zip\n",
            "  inflating: fifa_ranking-2022-10-06.csv  \n"
          ]
        }
      ],
      "source": [
        "!unzip fifaworldranking.zip"
      ]
    },
    {
      "cell_type": "code",
      "source": [
        "!kaggle datasets list -s \"International Football\""
      ],
      "metadata": {
        "colab": {
          "base_uri": "https://localhost:8080/"
        },
        "id": "hrzkGgAbFj--",
        "outputId": "ca24d39b-c20e-4434-bd26-7ee207b03776"
      },
      "execution_count": null,
      "outputs": [
        {
          "output_type": "stream",
          "name": "stdout",
          "text": [
            "ref                                                              title                                               size  lastUpdated          downloadCount  voteCount  usabilityRating  \n",
            "---------------------------------------------------------------  -------------------------------------------------  -----  -------------------  -------------  ---------  ---------------  \n",
            "martj42/international-football-results-from-1872-to-2017         International football results from 1872 to 2022   572KB  2022-09-29 06:32:20          55071       1514  1.0              \n",
            "martj42/womens-international-football-results                    Women's International Football Results              62KB  2022-08-01 00:21:57           1875         62  1.0              \n",
            "eng0mohamed0nabil/international-football-results                 International football results                     534KB  2020-08-05 14:17:54            235          8  1.0              \n",
            "hugomathien/soccer                                               European Soccer Database                            33MB  2016-10-23 22:31:38         165731       3996  0.7058824        \n",
            "thomaskonstantin/israel-international-football-records-19482020  Israel international football records 1948-2020      5KB  2020-09-23 19:18:50             50         14  0.7647059        \n",
            "william2002/international-results-18702021                       International Football Results 1870 - 2022           1MB  2022-06-01 13:35:58            148         13  0.7941176        \n",
            "tadhgfitzgerald/fifa-international-soccer-mens-ranking-1993now   FIFA Soccer Rankings                               693KB  2018-06-08 11:15:09          13315        188  0.7058824        \n",
            "schochastics/domestic-football-results-from-1888-to-2019         Domestic Football results from 1888 to 2019         29MB  2020-03-17 13:31:55            483         37  1.0              \n",
            "shivamb/football-deaths                                          Football Players Deaths                             17KB  2021-11-30 07:38:52            679         36  1.0              \n",
            "iamsouravbanerjee/fifa-football-world-cup-dataset                FIFA - Football World Cup Dataset                   12KB  2022-07-17 10:50:31           2043         66  1.0              \n",
            "brenda89/fifa-world-cup-2022                                     FIFA World Cup 2022 ⚽️🏆                            611KB  2022-08-28 11:38:08           2755         79  1.0              \n",
            "kevinmh/fifa-18-more-complete-player-dataset                     Fifa 18 More Complete Player Dataset                 5MB  2017-12-26 01:51:03           7705        161  0.85294116       \n",
            "estefanytorres/international-football-matches-with-stats-201017  International football matches with stats 2010-17   85KB  2018-06-26 19:25:46            290          9  0.7058824        \n",
            "djamshed/fifa-world-cup-2018-players                             FIFA WORLD CUP 2018 Players                         21KB  2018-06-05 22:58:42           2205         27  0.88235295       \n",
            "adrianx26/international-football-results-from-1872-to-2017       international football results from 1872 to 2017   501KB  2018-10-17 20:04:10             79          2  0.3529412        \n",
            "lylebegbie/international-rugby-union-results-from-18712022       International Rugby Union results from 1871-2022    39KB  2022-09-26 08:56:23             38         10  0.88235295       \n",
            "prajitdatta/ultimate-25k-matches-football-database-european      Ultimate 25k+ Matches Football Database -European   33MB  2016-12-23 04:47:40           1307         30  0.8235294        \n",
            "david1034/international-football-data-set-pyspark                International football data set - pyspark          540KB  2020-02-29 23:29:53            109          2  0.23529412       \n",
            "tiwariayan/fifa-players-dataset                                  FIFA 21 complete player dataset                      1MB  2021-07-25 23:39:30            335         12  0.9411765        \n",
            "gpreda/lionel-messi-tweets                                       Lionel Messi Tweets                                  5MB  2021-09-09 20:36:21             15          2  1.0              \n"
          ]
        }
      ]
    },
    {
      "cell_type": "code",
      "source": [
        "!kaggle datasets download martj42/international-football-results-from-1872-to-2017"
      ],
      "metadata": {
        "id": "-yzX89NxFz4d",
        "colab": {
          "base_uri": "https://localhost:8080/"
        },
        "outputId": "fa298fca-052e-464a-e5fa-e6be9c32242c"
      },
      "execution_count": null,
      "outputs": [
        {
          "output_type": "stream",
          "name": "stdout",
          "text": [
            "Downloading international-football-results-from-1872-to-2017.zip to /content\n",
            "\r  0% 0.00/572k [00:00<?, ?B/s]\n",
            "\r100% 572k/572k [00:00<00:00, 23.4MB/s]\n"
          ]
        }
      ]
    },
    {
      "cell_type": "code",
      "source": [
        "!unzip international-football-results-from-1872-to-2017.zip"
      ],
      "metadata": {
        "colab": {
          "base_uri": "https://localhost:8080/"
        },
        "id": "2GV2i0zcF5Vu",
        "outputId": "6f073049-d42e-45c9-c443-79229a373f47"
      },
      "execution_count": null,
      "outputs": [
        {
          "output_type": "stream",
          "name": "stdout",
          "text": [
            "Archive:  international-football-results-from-1872-to-2017.zip\n",
            "  inflating: results.csv             \n",
            "  inflating: shootouts.csv           \n"
          ]
        }
      ]
    },
    {
      "cell_type": "markdown",
      "metadata": {
        "id": "7Y801Z1RjUae"
      },
      "source": [
        "## 3. EDA"
      ]
    },
    {
      "cell_type": "markdown",
      "metadata": {
        "id": "aI56rGO0wzAV"
      },
      "source": [
        "Python의의 Pandas 라이브러리를 사용했습니다.\n",
        "\n",
        "- `match_df`: 국제 경기 데이터셋\n",
        "- `rank_df`: 피파 랭킹 데이터셋\n",
        "- `worldcup_match_df`: 카타르 월드컵 일정 데이터셋\n",
        "- `teams_df`: 카타르 월드컵 참여하는 팀 - 조 데이터셋\n",
        "- `players_df`: FIFA 2022 선수 데이터셋\n",
        "\n",
        "\n"
      ]
    },
    {
      "cell_type": "code",
      "execution_count": null,
      "metadata": {
        "id": "XBw4rDm0zcPg",
        "colab": {
          "base_uri": "https://localhost:8080/",
          "height": 386
        },
        "outputId": "3a4d6bc5-4909-4b36-91d8-ad3abeba3052"
      },
      "outputs": [
        {
          "output_type": "execute_result",
          "data": {
            "text/plain": [
              "         date home_team     away_team home_team_continent away_team_continent  \\\n",
              "0  1993-08-08   Bolivia       Uruguay       South America       South America   \n",
              "1  1993-08-08    Brazil        Mexico       South America       North America   \n",
              "2  1993-08-08   Ecuador     Venezuela       South America       South America   \n",
              "3  1993-08-08    Guinea  Sierra Leone              Africa              Africa   \n",
              "4  1993-08-08  Paraguay     Argentina       South America       South America   \n",
              "\n",
              "   home_team_fifa_rank  away_team_fifa_rank  home_team_total_fifa_points  \\\n",
              "0                   59                   22                            0   \n",
              "1                    8                   14                            0   \n",
              "2                   35                   94                            0   \n",
              "3                   65                   86                            0   \n",
              "4                   67                    5                            0   \n",
              "\n",
              "   away_team_total_fifa_points  home_team_score  ...  shoot_out  \\\n",
              "0                            0                3  ...         No   \n",
              "1                            0                1  ...         No   \n",
              "2                            0                5  ...         No   \n",
              "3                            0                1  ...         No   \n",
              "4                            0                1  ...         No   \n",
              "\n",
              "  home_team_result home_team_goalkeeper_score away_team_goalkeeper_score  \\\n",
              "0              Win                        NaN                        NaN   \n",
              "1             Draw                        NaN                        NaN   \n",
              "2              Win                        NaN                        NaN   \n",
              "3              Win                        NaN                        NaN   \n",
              "4             Lose                        NaN                        NaN   \n",
              "\n",
              "   home_team_mean_defense_score home_team_mean_offense_score  \\\n",
              "0                           NaN                          NaN   \n",
              "1                           NaN                          NaN   \n",
              "2                           NaN                          NaN   \n",
              "3                           NaN                          NaN   \n",
              "4                           NaN                          NaN   \n",
              "\n",
              "  home_team_mean_midfield_score  away_team_mean_defense_score  \\\n",
              "0                           NaN                           NaN   \n",
              "1                           NaN                           NaN   \n",
              "2                           NaN                           NaN   \n",
              "3                           NaN                           NaN   \n",
              "4                           NaN                           NaN   \n",
              "\n",
              "   away_team_mean_offense_score  away_team_mean_midfield_score  \n",
              "0                           NaN                            NaN  \n",
              "1                           NaN                            NaN  \n",
              "2                           NaN                            NaN  \n",
              "3                           NaN                            NaN  \n",
              "4                           NaN                            NaN  \n",
              "\n",
              "[5 rows x 25 columns]"
            ],
            "text/html": [
              "\n",
              "  <div id=\"df-6829264f-64a6-408f-a961-9b5bf6bb0f9a\">\n",
              "    <div class=\"colab-df-container\">\n",
              "      <div>\n",
              "<style scoped>\n",
              "    .dataframe tbody tr th:only-of-type {\n",
              "        vertical-align: middle;\n",
              "    }\n",
              "\n",
              "    .dataframe tbody tr th {\n",
              "        vertical-align: top;\n",
              "    }\n",
              "\n",
              "    .dataframe thead th {\n",
              "        text-align: right;\n",
              "    }\n",
              "</style>\n",
              "<table border=\"1\" class=\"dataframe\">\n",
              "  <thead>\n",
              "    <tr style=\"text-align: right;\">\n",
              "      <th></th>\n",
              "      <th>date</th>\n",
              "      <th>home_team</th>\n",
              "      <th>away_team</th>\n",
              "      <th>home_team_continent</th>\n",
              "      <th>away_team_continent</th>\n",
              "      <th>home_team_fifa_rank</th>\n",
              "      <th>away_team_fifa_rank</th>\n",
              "      <th>home_team_total_fifa_points</th>\n",
              "      <th>away_team_total_fifa_points</th>\n",
              "      <th>home_team_score</th>\n",
              "      <th>...</th>\n",
              "      <th>shoot_out</th>\n",
              "      <th>home_team_result</th>\n",
              "      <th>home_team_goalkeeper_score</th>\n",
              "      <th>away_team_goalkeeper_score</th>\n",
              "      <th>home_team_mean_defense_score</th>\n",
              "      <th>home_team_mean_offense_score</th>\n",
              "      <th>home_team_mean_midfield_score</th>\n",
              "      <th>away_team_mean_defense_score</th>\n",
              "      <th>away_team_mean_offense_score</th>\n",
              "      <th>away_team_mean_midfield_score</th>\n",
              "    </tr>\n",
              "  </thead>\n",
              "  <tbody>\n",
              "    <tr>\n",
              "      <th>0</th>\n",
              "      <td>1993-08-08</td>\n",
              "      <td>Bolivia</td>\n",
              "      <td>Uruguay</td>\n",
              "      <td>South America</td>\n",
              "      <td>South America</td>\n",
              "      <td>59</td>\n",
              "      <td>22</td>\n",
              "      <td>0</td>\n",
              "      <td>0</td>\n",
              "      <td>3</td>\n",
              "      <td>...</td>\n",
              "      <td>No</td>\n",
              "      <td>Win</td>\n",
              "      <td>NaN</td>\n",
              "      <td>NaN</td>\n",
              "      <td>NaN</td>\n",
              "      <td>NaN</td>\n",
              "      <td>NaN</td>\n",
              "      <td>NaN</td>\n",
              "      <td>NaN</td>\n",
              "      <td>NaN</td>\n",
              "    </tr>\n",
              "    <tr>\n",
              "      <th>1</th>\n",
              "      <td>1993-08-08</td>\n",
              "      <td>Brazil</td>\n",
              "      <td>Mexico</td>\n",
              "      <td>South America</td>\n",
              "      <td>North America</td>\n",
              "      <td>8</td>\n",
              "      <td>14</td>\n",
              "      <td>0</td>\n",
              "      <td>0</td>\n",
              "      <td>1</td>\n",
              "      <td>...</td>\n",
              "      <td>No</td>\n",
              "      <td>Draw</td>\n",
              "      <td>NaN</td>\n",
              "      <td>NaN</td>\n",
              "      <td>NaN</td>\n",
              "      <td>NaN</td>\n",
              "      <td>NaN</td>\n",
              "      <td>NaN</td>\n",
              "      <td>NaN</td>\n",
              "      <td>NaN</td>\n",
              "    </tr>\n",
              "    <tr>\n",
              "      <th>2</th>\n",
              "      <td>1993-08-08</td>\n",
              "      <td>Ecuador</td>\n",
              "      <td>Venezuela</td>\n",
              "      <td>South America</td>\n",
              "      <td>South America</td>\n",
              "      <td>35</td>\n",
              "      <td>94</td>\n",
              "      <td>0</td>\n",
              "      <td>0</td>\n",
              "      <td>5</td>\n",
              "      <td>...</td>\n",
              "      <td>No</td>\n",
              "      <td>Win</td>\n",
              "      <td>NaN</td>\n",
              "      <td>NaN</td>\n",
              "      <td>NaN</td>\n",
              "      <td>NaN</td>\n",
              "      <td>NaN</td>\n",
              "      <td>NaN</td>\n",
              "      <td>NaN</td>\n",
              "      <td>NaN</td>\n",
              "    </tr>\n",
              "    <tr>\n",
              "      <th>3</th>\n",
              "      <td>1993-08-08</td>\n",
              "      <td>Guinea</td>\n",
              "      <td>Sierra Leone</td>\n",
              "      <td>Africa</td>\n",
              "      <td>Africa</td>\n",
              "      <td>65</td>\n",
              "      <td>86</td>\n",
              "      <td>0</td>\n",
              "      <td>0</td>\n",
              "      <td>1</td>\n",
              "      <td>...</td>\n",
              "      <td>No</td>\n",
              "      <td>Win</td>\n",
              "      <td>NaN</td>\n",
              "      <td>NaN</td>\n",
              "      <td>NaN</td>\n",
              "      <td>NaN</td>\n",
              "      <td>NaN</td>\n",
              "      <td>NaN</td>\n",
              "      <td>NaN</td>\n",
              "      <td>NaN</td>\n",
              "    </tr>\n",
              "    <tr>\n",
              "      <th>4</th>\n",
              "      <td>1993-08-08</td>\n",
              "      <td>Paraguay</td>\n",
              "      <td>Argentina</td>\n",
              "      <td>South America</td>\n",
              "      <td>South America</td>\n",
              "      <td>67</td>\n",
              "      <td>5</td>\n",
              "      <td>0</td>\n",
              "      <td>0</td>\n",
              "      <td>1</td>\n",
              "      <td>...</td>\n",
              "      <td>No</td>\n",
              "      <td>Lose</td>\n",
              "      <td>NaN</td>\n",
              "      <td>NaN</td>\n",
              "      <td>NaN</td>\n",
              "      <td>NaN</td>\n",
              "      <td>NaN</td>\n",
              "      <td>NaN</td>\n",
              "      <td>NaN</td>\n",
              "      <td>NaN</td>\n",
              "    </tr>\n",
              "  </tbody>\n",
              "</table>\n",
              "<p>5 rows × 25 columns</p>\n",
              "</div>\n",
              "      <button class=\"colab-df-convert\" onclick=\"convertToInteractive('df-6829264f-64a6-408f-a961-9b5bf6bb0f9a')\"\n",
              "              title=\"Convert this dataframe to an interactive table.\"\n",
              "              style=\"display:none;\">\n",
              "        \n",
              "  <svg xmlns=\"http://www.w3.org/2000/svg\" height=\"24px\"viewBox=\"0 0 24 24\"\n",
              "       width=\"24px\">\n",
              "    <path d=\"M0 0h24v24H0V0z\" fill=\"none\"/>\n",
              "    <path d=\"M18.56 5.44l.94 2.06.94-2.06 2.06-.94-2.06-.94-.94-2.06-.94 2.06-2.06.94zm-11 1L8.5 8.5l.94-2.06 2.06-.94-2.06-.94L8.5 2.5l-.94 2.06-2.06.94zm10 10l.94 2.06.94-2.06 2.06-.94-2.06-.94-.94-2.06-.94 2.06-2.06.94z\"/><path d=\"M17.41 7.96l-1.37-1.37c-.4-.4-.92-.59-1.43-.59-.52 0-1.04.2-1.43.59L10.3 9.45l-7.72 7.72c-.78.78-.78 2.05 0 2.83L4 21.41c.39.39.9.59 1.41.59.51 0 1.02-.2 1.41-.59l7.78-7.78 2.81-2.81c.8-.78.8-2.07 0-2.86zM5.41 20L4 18.59l7.72-7.72 1.47 1.35L5.41 20z\"/>\n",
              "  </svg>\n",
              "      </button>\n",
              "      \n",
              "  <style>\n",
              "    .colab-df-container {\n",
              "      display:flex;\n",
              "      flex-wrap:wrap;\n",
              "      gap: 12px;\n",
              "    }\n",
              "\n",
              "    .colab-df-convert {\n",
              "      background-color: #E8F0FE;\n",
              "      border: none;\n",
              "      border-radius: 50%;\n",
              "      cursor: pointer;\n",
              "      display: none;\n",
              "      fill: #1967D2;\n",
              "      height: 32px;\n",
              "      padding: 0 0 0 0;\n",
              "      width: 32px;\n",
              "    }\n",
              "\n",
              "    .colab-df-convert:hover {\n",
              "      background-color: #E2EBFA;\n",
              "      box-shadow: 0px 1px 2px rgba(60, 64, 67, 0.3), 0px 1px 3px 1px rgba(60, 64, 67, 0.15);\n",
              "      fill: #174EA6;\n",
              "    }\n",
              "\n",
              "    [theme=dark] .colab-df-convert {\n",
              "      background-color: #3B4455;\n",
              "      fill: #D2E3FC;\n",
              "    }\n",
              "\n",
              "    [theme=dark] .colab-df-convert:hover {\n",
              "      background-color: #434B5C;\n",
              "      box-shadow: 0px 1px 3px 1px rgba(0, 0, 0, 0.15);\n",
              "      filter: drop-shadow(0px 1px 2px rgba(0, 0, 0, 0.3));\n",
              "      fill: #FFFFFF;\n",
              "    }\n",
              "  </style>\n",
              "\n",
              "      <script>\n",
              "        const buttonEl =\n",
              "          document.querySelector('#df-6829264f-64a6-408f-a961-9b5bf6bb0f9a button.colab-df-convert');\n",
              "        buttonEl.style.display =\n",
              "          google.colab.kernel.accessAllowed ? 'block' : 'none';\n",
              "\n",
              "        async function convertToInteractive(key) {\n",
              "          const element = document.querySelector('#df-6829264f-64a6-408f-a961-9b5bf6bb0f9a');\n",
              "          const dataTable =\n",
              "            await google.colab.kernel.invokeFunction('convertToInteractive',\n",
              "                                                     [key], {});\n",
              "          if (!dataTable) return;\n",
              "\n",
              "          const docLinkHtml = 'Like what you see? Visit the ' +\n",
              "            '<a target=\"_blank\" href=https://colab.research.google.com/notebooks/data_table.ipynb>data table notebook</a>'\n",
              "            + ' to learn more about interactive tables.';\n",
              "          element.innerHTML = '';\n",
              "          dataTable['output_type'] = 'display_data';\n",
              "          await google.colab.output.renderOutput(dataTable, element);\n",
              "          const docLink = document.createElement('div');\n",
              "          docLink.innerHTML = docLinkHtml;\n",
              "          element.appendChild(docLink);\n",
              "        }\n",
              "      </script>\n",
              "    </div>\n",
              "  </div>\n",
              "  "
            ]
          },
          "metadata": {},
          "execution_count": 18
        }
      ],
      "source": [
        "import pandas as pd\n",
        "\n",
        "match_df = pd.read_csv(\"./international_matches.csv\")\n",
        "rank_df = pd.read_csv(\"./fifa_ranking-2022-10-06.csv\")\n",
        "worldcup_match_df = pd.read_csv(\"./matchs-schudule.csv\", sep=\";\")\n",
        "teams_df = pd.read_csv(\"./Qatar2022-teams.csv\", sep=\";\")\n",
        "players_df = pd.read_csv(\"./Players_Data_2022/FIFA22_official_data.csv\")\n",
        "recent_match_df = pd.read_csv(\"./results.csv\")\n",
        "\n",
        "match_df.head()"
      ]
    },
    {
      "cell_type": "code",
      "source": [
        "recent_match_df['date'].unique()[-5:-1]"
      ],
      "metadata": {
        "colab": {
          "base_uri": "https://localhost:8080/"
        },
        "id": "lr5cjRxLGCkV",
        "outputId": "b19e9d23-9168-44d3-99a9-1dfeb88ddf8c"
      },
      "execution_count": null,
      "outputs": [
        {
          "output_type": "execute_result",
          "data": {
            "text/plain": [
              "array(['2022-09-24', '2022-09-25', '2022-09-26', '2022-09-27'],\n",
              "      dtype=object)"
            ]
          },
          "metadata": {},
          "execution_count": 19
        }
      ]
    },
    {
      "cell_type": "code",
      "source": [
        "teams_df.head()"
      ],
      "metadata": {
        "colab": {
          "base_uri": "https://localhost:8080/",
          "height": 206
        },
        "id": "xn_bPlzBmPpE",
        "outputId": "a3184788-f055-43f8-f7da-bbd2f9249f28"
      },
      "execution_count": null,
      "outputs": [
        {
          "output_type": "execute_result",
          "data": {
            "text/plain": [
              "          Team Group\n",
              "0      Senegal     A\n",
              "1        Qatar     A\n",
              "2  Netherlands     A\n",
              "3      Ecuador     A\n",
              "4         Iran     B"
            ],
            "text/html": [
              "\n",
              "  <div id=\"df-796ea630-fc88-4de4-ae62-a20e13a9c502\">\n",
              "    <div class=\"colab-df-container\">\n",
              "      <div>\n",
              "<style scoped>\n",
              "    .dataframe tbody tr th:only-of-type {\n",
              "        vertical-align: middle;\n",
              "    }\n",
              "\n",
              "    .dataframe tbody tr th {\n",
              "        vertical-align: top;\n",
              "    }\n",
              "\n",
              "    .dataframe thead th {\n",
              "        text-align: right;\n",
              "    }\n",
              "</style>\n",
              "<table border=\"1\" class=\"dataframe\">\n",
              "  <thead>\n",
              "    <tr style=\"text-align: right;\">\n",
              "      <th></th>\n",
              "      <th>Team</th>\n",
              "      <th>Group</th>\n",
              "    </tr>\n",
              "  </thead>\n",
              "  <tbody>\n",
              "    <tr>\n",
              "      <th>0</th>\n",
              "      <td>Senegal</td>\n",
              "      <td>A</td>\n",
              "    </tr>\n",
              "    <tr>\n",
              "      <th>1</th>\n",
              "      <td>Qatar</td>\n",
              "      <td>A</td>\n",
              "    </tr>\n",
              "    <tr>\n",
              "      <th>2</th>\n",
              "      <td>Netherlands</td>\n",
              "      <td>A</td>\n",
              "    </tr>\n",
              "    <tr>\n",
              "      <th>3</th>\n",
              "      <td>Ecuador</td>\n",
              "      <td>A</td>\n",
              "    </tr>\n",
              "    <tr>\n",
              "      <th>4</th>\n",
              "      <td>Iran</td>\n",
              "      <td>B</td>\n",
              "    </tr>\n",
              "  </tbody>\n",
              "</table>\n",
              "</div>\n",
              "      <button class=\"colab-df-convert\" onclick=\"convertToInteractive('df-796ea630-fc88-4de4-ae62-a20e13a9c502')\"\n",
              "              title=\"Convert this dataframe to an interactive table.\"\n",
              "              style=\"display:none;\">\n",
              "        \n",
              "  <svg xmlns=\"http://www.w3.org/2000/svg\" height=\"24px\"viewBox=\"0 0 24 24\"\n",
              "       width=\"24px\">\n",
              "    <path d=\"M0 0h24v24H0V0z\" fill=\"none\"/>\n",
              "    <path d=\"M18.56 5.44l.94 2.06.94-2.06 2.06-.94-2.06-.94-.94-2.06-.94 2.06-2.06.94zm-11 1L8.5 8.5l.94-2.06 2.06-.94-2.06-.94L8.5 2.5l-.94 2.06-2.06.94zm10 10l.94 2.06.94-2.06 2.06-.94-2.06-.94-.94-2.06-.94 2.06-2.06.94z\"/><path d=\"M17.41 7.96l-1.37-1.37c-.4-.4-.92-.59-1.43-.59-.52 0-1.04.2-1.43.59L10.3 9.45l-7.72 7.72c-.78.78-.78 2.05 0 2.83L4 21.41c.39.39.9.59 1.41.59.51 0 1.02-.2 1.41-.59l7.78-7.78 2.81-2.81c.8-.78.8-2.07 0-2.86zM5.41 20L4 18.59l7.72-7.72 1.47 1.35L5.41 20z\"/>\n",
              "  </svg>\n",
              "      </button>\n",
              "      \n",
              "  <style>\n",
              "    .colab-df-container {\n",
              "      display:flex;\n",
              "      flex-wrap:wrap;\n",
              "      gap: 12px;\n",
              "    }\n",
              "\n",
              "    .colab-df-convert {\n",
              "      background-color: #E8F0FE;\n",
              "      border: none;\n",
              "      border-radius: 50%;\n",
              "      cursor: pointer;\n",
              "      display: none;\n",
              "      fill: #1967D2;\n",
              "      height: 32px;\n",
              "      padding: 0 0 0 0;\n",
              "      width: 32px;\n",
              "    }\n",
              "\n",
              "    .colab-df-convert:hover {\n",
              "      background-color: #E2EBFA;\n",
              "      box-shadow: 0px 1px 2px rgba(60, 64, 67, 0.3), 0px 1px 3px 1px rgba(60, 64, 67, 0.15);\n",
              "      fill: #174EA6;\n",
              "    }\n",
              "\n",
              "    [theme=dark] .colab-df-convert {\n",
              "      background-color: #3B4455;\n",
              "      fill: #D2E3FC;\n",
              "    }\n",
              "\n",
              "    [theme=dark] .colab-df-convert:hover {\n",
              "      background-color: #434B5C;\n",
              "      box-shadow: 0px 1px 3px 1px rgba(0, 0, 0, 0.15);\n",
              "      filter: drop-shadow(0px 1px 2px rgba(0, 0, 0, 0.3));\n",
              "      fill: #FFFFFF;\n",
              "    }\n",
              "  </style>\n",
              "\n",
              "      <script>\n",
              "        const buttonEl =\n",
              "          document.querySelector('#df-796ea630-fc88-4de4-ae62-a20e13a9c502 button.colab-df-convert');\n",
              "        buttonEl.style.display =\n",
              "          google.colab.kernel.accessAllowed ? 'block' : 'none';\n",
              "\n",
              "        async function convertToInteractive(key) {\n",
              "          const element = document.querySelector('#df-796ea630-fc88-4de4-ae62-a20e13a9c502');\n",
              "          const dataTable =\n",
              "            await google.colab.kernel.invokeFunction('convertToInteractive',\n",
              "                                                     [key], {});\n",
              "          if (!dataTable) return;\n",
              "\n",
              "          const docLinkHtml = 'Like what you see? Visit the ' +\n",
              "            '<a target=\"_blank\" href=https://colab.research.google.com/notebooks/data_table.ipynb>data table notebook</a>'\n",
              "            + ' to learn more about interactive tables.';\n",
              "          element.innerHTML = '';\n",
              "          dataTable['output_type'] = 'display_data';\n",
              "          await google.colab.output.renderOutput(dataTable, element);\n",
              "          const docLink = document.createElement('div');\n",
              "          docLink.innerHTML = docLinkHtml;\n",
              "          element.appendChild(docLink);\n",
              "        }\n",
              "      </script>\n",
              "    </div>\n",
              "  </div>\n",
              "  "
            ]
          },
          "metadata": {},
          "execution_count": 20
        }
      ]
    },
    {
      "cell_type": "code",
      "source": [
        "rank_df.head()"
      ],
      "metadata": {
        "colab": {
          "base_uri": "https://localhost:8080/",
          "height": 206
        },
        "id": "WhF84MYh2VC0",
        "outputId": "92a079cf-aaf6-4491-e70d-9da54fe27b86"
      },
      "execution_count": null,
      "outputs": [
        {
          "output_type": "execute_result",
          "data": {
            "text/plain": [
              "   rank  country_full country_abrv  total_points  previous_points  \\\n",
              "0     1       Germany          GER          57.0              0.0   \n",
              "1    96         Syria          SYR          11.0              0.0   \n",
              "2    97  Burkina Faso          BFA          11.0              0.0   \n",
              "3    99        Latvia          LVA          10.0              0.0   \n",
              "4   100       Burundi          BDI          10.0              0.0   \n",
              "\n",
              "   rank_change confederation   rank_date  \n",
              "0            0          UEFA  1992-12-31  \n",
              "1            0           AFC  1992-12-31  \n",
              "2            0           CAF  1992-12-31  \n",
              "3            0          UEFA  1992-12-31  \n",
              "4            0           CAF  1992-12-31  "
            ],
            "text/html": [
              "\n",
              "  <div id=\"df-71170d3a-4c17-42bd-ab83-baa18e1765d7\">\n",
              "    <div class=\"colab-df-container\">\n",
              "      <div>\n",
              "<style scoped>\n",
              "    .dataframe tbody tr th:only-of-type {\n",
              "        vertical-align: middle;\n",
              "    }\n",
              "\n",
              "    .dataframe tbody tr th {\n",
              "        vertical-align: top;\n",
              "    }\n",
              "\n",
              "    .dataframe thead th {\n",
              "        text-align: right;\n",
              "    }\n",
              "</style>\n",
              "<table border=\"1\" class=\"dataframe\">\n",
              "  <thead>\n",
              "    <tr style=\"text-align: right;\">\n",
              "      <th></th>\n",
              "      <th>rank</th>\n",
              "      <th>country_full</th>\n",
              "      <th>country_abrv</th>\n",
              "      <th>total_points</th>\n",
              "      <th>previous_points</th>\n",
              "      <th>rank_change</th>\n",
              "      <th>confederation</th>\n",
              "      <th>rank_date</th>\n",
              "    </tr>\n",
              "  </thead>\n",
              "  <tbody>\n",
              "    <tr>\n",
              "      <th>0</th>\n",
              "      <td>1</td>\n",
              "      <td>Germany</td>\n",
              "      <td>GER</td>\n",
              "      <td>57.0</td>\n",
              "      <td>0.0</td>\n",
              "      <td>0</td>\n",
              "      <td>UEFA</td>\n",
              "      <td>1992-12-31</td>\n",
              "    </tr>\n",
              "    <tr>\n",
              "      <th>1</th>\n",
              "      <td>96</td>\n",
              "      <td>Syria</td>\n",
              "      <td>SYR</td>\n",
              "      <td>11.0</td>\n",
              "      <td>0.0</td>\n",
              "      <td>0</td>\n",
              "      <td>AFC</td>\n",
              "      <td>1992-12-31</td>\n",
              "    </tr>\n",
              "    <tr>\n",
              "      <th>2</th>\n",
              "      <td>97</td>\n",
              "      <td>Burkina Faso</td>\n",
              "      <td>BFA</td>\n",
              "      <td>11.0</td>\n",
              "      <td>0.0</td>\n",
              "      <td>0</td>\n",
              "      <td>CAF</td>\n",
              "      <td>1992-12-31</td>\n",
              "    </tr>\n",
              "    <tr>\n",
              "      <th>3</th>\n",
              "      <td>99</td>\n",
              "      <td>Latvia</td>\n",
              "      <td>LVA</td>\n",
              "      <td>10.0</td>\n",
              "      <td>0.0</td>\n",
              "      <td>0</td>\n",
              "      <td>UEFA</td>\n",
              "      <td>1992-12-31</td>\n",
              "    </tr>\n",
              "    <tr>\n",
              "      <th>4</th>\n",
              "      <td>100</td>\n",
              "      <td>Burundi</td>\n",
              "      <td>BDI</td>\n",
              "      <td>10.0</td>\n",
              "      <td>0.0</td>\n",
              "      <td>0</td>\n",
              "      <td>CAF</td>\n",
              "      <td>1992-12-31</td>\n",
              "    </tr>\n",
              "  </tbody>\n",
              "</table>\n",
              "</div>\n",
              "      <button class=\"colab-df-convert\" onclick=\"convertToInteractive('df-71170d3a-4c17-42bd-ab83-baa18e1765d7')\"\n",
              "              title=\"Convert this dataframe to an interactive table.\"\n",
              "              style=\"display:none;\">\n",
              "        \n",
              "  <svg xmlns=\"http://www.w3.org/2000/svg\" height=\"24px\"viewBox=\"0 0 24 24\"\n",
              "       width=\"24px\">\n",
              "    <path d=\"M0 0h24v24H0V0z\" fill=\"none\"/>\n",
              "    <path d=\"M18.56 5.44l.94 2.06.94-2.06 2.06-.94-2.06-.94-.94-2.06-.94 2.06-2.06.94zm-11 1L8.5 8.5l.94-2.06 2.06-.94-2.06-.94L8.5 2.5l-.94 2.06-2.06.94zm10 10l.94 2.06.94-2.06 2.06-.94-2.06-.94-.94-2.06-.94 2.06-2.06.94z\"/><path d=\"M17.41 7.96l-1.37-1.37c-.4-.4-.92-.59-1.43-.59-.52 0-1.04.2-1.43.59L10.3 9.45l-7.72 7.72c-.78.78-.78 2.05 0 2.83L4 21.41c.39.39.9.59 1.41.59.51 0 1.02-.2 1.41-.59l7.78-7.78 2.81-2.81c.8-.78.8-2.07 0-2.86zM5.41 20L4 18.59l7.72-7.72 1.47 1.35L5.41 20z\"/>\n",
              "  </svg>\n",
              "      </button>\n",
              "      \n",
              "  <style>\n",
              "    .colab-df-container {\n",
              "      display:flex;\n",
              "      flex-wrap:wrap;\n",
              "      gap: 12px;\n",
              "    }\n",
              "\n",
              "    .colab-df-convert {\n",
              "      background-color: #E8F0FE;\n",
              "      border: none;\n",
              "      border-radius: 50%;\n",
              "      cursor: pointer;\n",
              "      display: none;\n",
              "      fill: #1967D2;\n",
              "      height: 32px;\n",
              "      padding: 0 0 0 0;\n",
              "      width: 32px;\n",
              "    }\n",
              "\n",
              "    .colab-df-convert:hover {\n",
              "      background-color: #E2EBFA;\n",
              "      box-shadow: 0px 1px 2px rgba(60, 64, 67, 0.3), 0px 1px 3px 1px rgba(60, 64, 67, 0.15);\n",
              "      fill: #174EA6;\n",
              "    }\n",
              "\n",
              "    [theme=dark] .colab-df-convert {\n",
              "      background-color: #3B4455;\n",
              "      fill: #D2E3FC;\n",
              "    }\n",
              "\n",
              "    [theme=dark] .colab-df-convert:hover {\n",
              "      background-color: #434B5C;\n",
              "      box-shadow: 0px 1px 3px 1px rgba(0, 0, 0, 0.15);\n",
              "      filter: drop-shadow(0px 1px 2px rgba(0, 0, 0, 0.3));\n",
              "      fill: #FFFFFF;\n",
              "    }\n",
              "  </style>\n",
              "\n",
              "      <script>\n",
              "        const buttonEl =\n",
              "          document.querySelector('#df-71170d3a-4c17-42bd-ab83-baa18e1765d7 button.colab-df-convert');\n",
              "        buttonEl.style.display =\n",
              "          google.colab.kernel.accessAllowed ? 'block' : 'none';\n",
              "\n",
              "        async function convertToInteractive(key) {\n",
              "          const element = document.querySelector('#df-71170d3a-4c17-42bd-ab83-baa18e1765d7');\n",
              "          const dataTable =\n",
              "            await google.colab.kernel.invokeFunction('convertToInteractive',\n",
              "                                                     [key], {});\n",
              "          if (!dataTable) return;\n",
              "\n",
              "          const docLinkHtml = 'Like what you see? Visit the ' +\n",
              "            '<a target=\"_blank\" href=https://colab.research.google.com/notebooks/data_table.ipynb>data table notebook</a>'\n",
              "            + ' to learn more about interactive tables.';\n",
              "          element.innerHTML = '';\n",
              "          dataTable['output_type'] = 'display_data';\n",
              "          await google.colab.output.renderOutput(dataTable, element);\n",
              "          const docLink = document.createElement('div');\n",
              "          docLink.innerHTML = docLinkHtml;\n",
              "          element.appendChild(docLink);\n",
              "        }\n",
              "      </script>\n",
              "    </div>\n",
              "  </div>\n",
              "  "
            ]
          },
          "metadata": {},
          "execution_count": 21
        }
      ]
    },
    {
      "cell_type": "markdown",
      "metadata": {
        "id": "---B3_r9zbBc"
      },
      "source": [
        "## 4. 데이터 전처리"
      ]
    },
    {
      "cell_type": "markdown",
      "metadata": {
        "id": "sqYOYi0CPnxT"
      },
      "source": [
        "위에서 여러 개의 데이터셋을 불러오는데, 나라 이름이 통일되지 않은 것들이 있어 2022 카타르 월드컵 참가 팀 중 이름이 다른 팀을 한 가지로 통일해주었습니다."
      ]
    },
    {
      "cell_type": "code",
      "execution_count": null,
      "metadata": {
        "id": "0wO8UEGkPnPR"
      },
      "outputs": [],
      "source": [
        "match_df = match_df.replace({\"IR Iran\": \"Iran\", \"Korea Republic\" : \"South Korea\"})"
      ]
    },
    {
      "cell_type": "code",
      "execution_count": null,
      "metadata": {
        "id": "qJD4UL52U1P7"
      },
      "outputs": [],
      "source": [
        "rank_df = rank_df.replace({\"IR Iran\": \"Iran\", \"Korea Republic\" : \"South Korea\"})"
      ]
    },
    {
      "cell_type": "code",
      "source": [
        "match_df['tournament'].unique()"
      ],
      "metadata": {
        "colab": {
          "base_uri": "https://localhost:8080/"
        },
        "id": "39jUz8tr2gnk",
        "outputId": "00a9232b-3dad-49d6-e666-094832384459"
      },
      "execution_count": null,
      "outputs": [
        {
          "output_type": "execute_result",
          "data": {
            "text/plain": [
              "array(['FIFA World Cup qualification', 'Friendly',\n",
              "       'African Cup of Nations qualification', 'Amílcar Cabral Cup',\n",
              "       'CFU Caribbean Cup qualification',\n",
              "       'United Arab Emirates Friendship Tournament',\n",
              "       'Malta International Tournament', 'Lunar New Year Cup',\n",
              "       'African Cup of Nations', 'CFU Caribbean Cup',\n",
              "       'UEFA Euro qualification', 'Kirin Cup', 'FIFA World Cup',\n",
              "       'Oceania Nations Cup qualification', 'Baltic Cup', 'Gulf Cup',\n",
              "       'Simba Tournament', 'CECAFA Cup', 'Confederations Cup',\n",
              "       'Dynasty Cup', \"King's Cup\", 'Nehru Cup', 'SAFF Cup',\n",
              "       'Copa Paz del Chaco', 'Korea Cup', 'USA Cup', 'Copa América',\n",
              "       'Merdeka Tournament', 'South Pacific Games', 'UNCAF Cup',\n",
              "       'Oceania Nations Cup', 'Windward Islands Tournament', 'Gold Cup',\n",
              "       'AFC Asian Cup qualification', 'UEFA Euro', 'AFF Championship',\n",
              "       'AFC Asian Cup', 'King Hassan II Tournament',\n",
              "       'Cyprus International Tournament', 'Dunhill Cup',\n",
              "       'COSAFA Cup qualification', 'COSAFA Cup', 'Tournoi de France',\n",
              "       'Gold Cup qualification', 'SKN Football Festival',\n",
              "       'Arab Cup qualification', 'Arab Cup', 'UNIFFAC Cup',\n",
              "       'Nordic Championship', 'WAFF Championship', 'Millennium Cup',\n",
              "       'Cup of Ancient Civilizations', \"Prime Minister's Cup\",\n",
              "       'EAFF Championship', 'TIFOCO Tournament', 'Afro-Asian Games',\n",
              "       'AFC Challenge Cup', 'Copa del Pacífico',\n",
              "       'AFC Challenge Cup qualification', 'African Nations Championship',\n",
              "       'VFF Cup', 'Dragon Cup', 'Nile Basin Tournament', 'Nations Cup',\n",
              "       'Copa Confraternidad', 'Pacific Games',\n",
              "       'Superclásico de las Américas', 'ABCS Tournament',\n",
              "       'Kirin Challenge Cup', 'OSN Cup', 'Copa América qualification',\n",
              "       'Pacific Mini Games', 'Intercontinental Cup',\n",
              "       'AFF Championship qualification', 'UEFA Nations League',\n",
              "       'CONCACAF Nations League qualification',\n",
              "       'African Nations Championship qualification',\n",
              "       'CONCACAF Nations League', 'Three Nations Cup',\n",
              "       'Mahinda Rajapaksa Cup', 'Navruz Cup',\n",
              "       'CONMEBOL–UEFA Cup of Champions'], dtype=object)"
            ]
          },
          "metadata": {},
          "execution_count": 24
        }
      ]
    },
    {
      "cell_type": "code",
      "execution_count": null,
      "metadata": {
        "id": "lSCDijNX2chm"
      },
      "outputs": [],
      "source": [
        "match_df['rank_difference'] = match_df['home_team_fifa_rank'] - match_df['away_team_fifa_rank']\n",
        "match_df['average_rank'] = (match_df['home_team_fifa_rank'] + match_df['away_team_fifa_rank'])/2\n",
        "match_df['point_difference'] = match_df['home_team_total_fifa_points'] - match_df['away_team_total_fifa_points']\n",
        "match_df['score_difference'] = match_df['home_team_score'] - match_df['away_team_score']\n",
        "match_df['is_won'] = match_df['score_difference'] > 0 # Take draw as lost\n",
        "match_df['is_stake'] = match_df['tournament'] != 'Friendly'\n",
        "\n",
        "match_df['is_worldcup'] = 'FIFA World Cup' in match_df['tournament']"
      ]
    },
    {
      "cell_type": "code",
      "source": [
        "match_df['rank_change'] = 0\n",
        "\n",
        "from datetime import date\n",
        "from tqdm.auto import tqdm\n",
        "\n",
        "cnt = 0\n",
        "\n",
        "match_df['home_rank_change'] = 0\n",
        "match_df['away_rank_change'] = 0\n",
        "match_df['rank_change_diff'] = 0\n",
        "\n",
        "# 홈 팀의 상승세 > 어웨이 팀의 상승세\n",
        "\n",
        "for i, row in tqdm(match_df.iterrows(), total=len(match_df)):\n",
        "    match_date = row['date']\n",
        "    home = row['home_team']\n",
        "    away = row['away_team']\n",
        "    date = date.fromisoformat(match_date)\n",
        "\n",
        "    home_rank_df = rank_df.loc[rank_df.country_full == home]\n",
        "    # print(home_rank_df.head())\n",
        "    mini = 0\n",
        "    target_rank_change = 0\n",
        "    for j, row2 in home_rank_df.iterrows():\n",
        "        rank_date = row2['rank_date']\n",
        "        # print(rank_date)\n",
        "        rank_date = date.fromisoformat(rank_date)\n",
        "        diff = rank_date - date\n",
        "        mini = min(abs(diff.days), mini)\n",
        "\n",
        "        if mini == abs(diff.days):\n",
        "            target_rank_change = row2['rank_change']\n",
        "\n",
        "    match_df.home_rank_change.iloc[i] = target_rank_change\n",
        "\n",
        "\n",
        "    away_rank_df = rank_df.loc[rank_df.country_full == away]\n",
        "    # print(home_rank_df.head())\n",
        "    mini = 0\n",
        "    target_rank_change = 0\n",
        "    for j, row2 in home_rank_df.iterrows():\n",
        "        rank_date = row2['rank_date']\n",
        "        # print(rank_date)\n",
        "        rank_date = date.fromisoformat(rank_date)\n",
        "        diff = rank_date - date\n",
        "        mini = min(abs(diff.days), mini)\n",
        "\n",
        "        if mini == abs(diff.days):\n",
        "            target_rank_change = row2['rank_change']\n",
        "        \n",
        "    match_df.away_rank_change.iloc[i] = target_rank_change\n",
        "\n",
        "    #print(type(match_date))\n",
        "    # cnt += 1\n",
        "    # if cnt == 10:\n",
        "    #     break"
      ],
      "metadata": {
        "id": "1263k3VMGcw9",
        "colab": {
          "base_uri": "https://localhost:8080/",
          "height": 140,
          "referenced_widgets": [
            "3a15068878344056bad49dab015c3eea",
            "0fad86133ff24e5c911c70acbbb7cef4",
            "e876c5cc3c6b4242947a3d9a0387626f",
            "67c2db90de0c4d2c85d01898e58a9205",
            "3fc9e1467f5540fcaaa5b196bbb4f74c",
            "b0f169b899de41ff9e2122705ad66ee5",
            "a39314bf59104f38bc98bb5dd750be8a",
            "ce86229e63ef4be19509eec0f737478e",
            "5d5e9705382d44dca2b45d58f92c947d",
            "6ad14ad32a5f4b2c91f7ab07e42a2f20",
            "537967e301c848498be42cbb0ead1dcd"
          ]
        },
        "outputId": "38986431-e873-4055-e045-5b3553a79963"
      },
      "execution_count": null,
      "outputs": [
        {
          "output_type": "display_data",
          "data": {
            "text/plain": [
              "  0%|          | 0/23921 [00:00<?, ?it/s]"
            ],
            "application/vnd.jupyter.widget-view+json": {
              "version_major": 2,
              "version_minor": 0,
              "model_id": "3a15068878344056bad49dab015c3eea"
            }
          },
          "metadata": {}
        },
        {
          "output_type": "stream",
          "name": "stderr",
          "text": [
            "/usr/local/lib/python3.7/dist-packages/pandas/core/indexing.py:1732: SettingWithCopyWarning: \n",
            "A value is trying to be set on a copy of a slice from a DataFrame\n",
            "\n",
            "See the caveats in the documentation: https://pandas.pydata.org/pandas-docs/stable/user_guide/indexing.html#returning-a-view-versus-a-copy\n",
            "  self._setitem_single_block(indexer, value, name)\n"
          ]
        }
      ]
    },
    {
      "cell_type": "code",
      "source": [
        "print(\"home_rank_change: \", match_df.home_rank_change.unique())\n",
        "print(\"away_rank_change: \", match_df.away_rank_change.unique())"
      ],
      "metadata": {
        "colab": {
          "base_uri": "https://localhost:8080/"
        },
        "id": "QhJ4hHqfLhvg",
        "outputId": "ca32c041-5cff-4bd4-9e33-43c0d0c24b15"
      },
      "execution_count": null,
      "outputs": [
        {
          "output_type": "stream",
          "name": "stdout",
          "text": [
            "home_rank_change:  [-28   5 -30   2  -1  -8  -4   0   1  -2 -15  -3   4   3 -11  -7  -6  10\n",
            " -10 -13   8   6   7   9  -9  -5 -16  12 -26 -12  14  15 -38 -14  13 -17\n",
            "  22  20  17]\n",
            "away_rank_change:  [-28   5 -30   2  -1  -8  -4   0   1  -2 -15  -3   4   3 -11  -7  -6  10\n",
            " -10 -13   8   6   7   9  -9  -5 -16  12 -26 -12  14  15 -38 -14  13 -17\n",
            "  22  20  17]\n"
          ]
        }
      ]
    },
    {
      "cell_type": "code",
      "source": [
        "match_df['rank_change_diff'] = match_df['home_rank_change'] - match_df['away_rank_change']\n",
        "\n",
        "match_df['is_home_pos'] = match_df['home_rank_change'] > 0\n",
        "match_df['is_away_pos'] = match_df['away_rank_change'] > 0"
      ],
      "metadata": {
        "id": "ftpz2-wlI6n5"
      },
      "execution_count": null,
      "outputs": []
    },
    {
      "cell_type": "code",
      "source": [
        "match_df.to_csv(\"./match_df_modified.csv\")"
      ],
      "metadata": {
        "id": "awalSy6GNN2e"
      },
      "execution_count": null,
      "outputs": []
    },
    {
      "cell_type": "code",
      "source": [
        "from datetime import date\n",
        "from tqdm.auto import tqdm\n",
        "\n",
        "cnt = 0\n",
        "\n",
        "match_df['home_recent_wins'] = 0\n",
        "match_df['away_recent_wins'] = 0\n",
        "\n",
        "\n",
        "for i, row in tqdm(match_df.iterrows(), total=len(match_df)):\n",
        "    match_date = row['date']\n",
        "    home = row['home_team']\n",
        "    away = row['away_team']\n",
        "    date = date.fromisoformat(match_date)\n",
        "\n",
        "    home_match_df = match_df.loc[(match_df.home_team == home)].reset_index()\n",
        "    away_match_df = match_df.loc[(match_df.away_team == away)].reset_index()\n",
        "\n",
        "    for j, row2 in home_match_df.iterrows():\n",
        "        # print(row2.columns)\n",
        "        if row2['date'] != match_date:\n",
        "            continue\n",
        "        \n",
        "        start = max(0, j-10)\n",
        "        end = max(0, j)\n",
        "        recent_matches = home_match_df.iloc[start:end]\n",
        "        result_list = recent_matches.is_won.value_counts()\n",
        "        if len(result_list) > 1:\n",
        "            match_df.home_recent_wins.iloc[i] = result_list[1]\n",
        "        break\n",
        "    \n",
        "    for j, row3 in away_match_df.iterrows():\n",
        "        # print(row2.columns)\n",
        "        if row3['date'] != match_date:\n",
        "            continue\n",
        "        \n",
        "        start = max(0, j-5)\n",
        "        end = max(0, j-1)\n",
        "        recent_matches = away_match_df.iloc[start:end]\n",
        "        result_list = recent_matches.is_won.value_counts()\n",
        "        if len(result_list) > 1:\n",
        "            match_df.away_recent_wins.iloc[i] = result_list[0]\n",
        "        break\n",
        "    \n",
        "    # #print(type(match_date))\n",
        "    # cnt += 1\n",
        "    # if cnt == 5:\n",
        "    #     break"
      ],
      "metadata": {
        "colab": {
          "base_uri": "https://localhost:8080/",
          "height": 49,
          "referenced_widgets": [
            "a6bc2b3316ac47e9a475a2703f0f7e8a",
            "d48616b3a3974910825c5f7eb2ac0c92",
            "e5b6cfcd563f4acea4fe6de5e294f6c8",
            "3763505c5bcc4c82b59fa19ee92c4760",
            "7fd4f8430fc64a71883a518594f04d33",
            "ae650532525b454c9601003cc0cd64ba",
            "7cf1f88d63fc4ee4a2af27425d6d8096",
            "c0881befdac347b3b6a6f51590955598",
            "1099801abdea4716a641da635f9a1742",
            "26d2ffb7151b43bab022f64ad8810958",
            "08bdf73b682c4b428877360cbfcb52bf"
          ]
        },
        "id": "IXU9djAo_h-p",
        "outputId": "f9b180d2-1c54-4847-a051-7cf6a567fd9e"
      },
      "execution_count": null,
      "outputs": [
        {
          "output_type": "display_data",
          "data": {
            "text/plain": [
              "  0%|          | 0/23921 [00:00<?, ?it/s]"
            ],
            "application/vnd.jupyter.widget-view+json": {
              "version_major": 2,
              "version_minor": 0,
              "model_id": "a6bc2b3316ac47e9a475a2703f0f7e8a"
            }
          },
          "metadata": {}
        }
      ]
    },
    {
      "cell_type": "code",
      "source": [
        "from datetime import date\n",
        "from tqdm import tqdm\n",
        "\n",
        "cnt = 0\n",
        "\n",
        "import copy\n",
        "\n",
        "# match_df_2 = copy.deepcopy(match_df)\n",
        "\n",
        "country = \"South Korea\"\n",
        "\n",
        "# print(match_df.loc[(match_df.home_team == country)].iloc[-6:-1]['is_won'].value_counts()[True])\n",
        "# print(match_df.loc[(match_df.away_team == country)].iloc[-6:-1]['is_won'].value_counts()[True])\n",
        "\n",
        "#     match_df.loc[(match_df.home_team == country) | (match_df.away_team == country)]\n",
        "\n",
        "match_df.loc[(match_df.home_team == country)].iloc[-1]\n"
      ],
      "metadata": {
        "colab": {
          "base_uri": "https://localhost:8080/"
        },
        "id": "W5SCHskeNqAP",
        "outputId": "c85a7370-02db-4e6c-9d2a-c76d62497d5d"
      },
      "execution_count": null,
      "outputs": [
        {
          "output_type": "execute_result",
          "data": {
            "text/plain": [
              "date                              2022-06-14\n",
              "home_team                        South Korea\n",
              "away_team                              Egypt\n",
              "home_team_continent                     Asia\n",
              "away_team_continent                   Africa\n",
              "home_team_fifa_rank                       29\n",
              "away_team_fifa_rank                       32\n",
              "home_team_total_fifa_points             1519\n",
              "away_team_total_fifa_points             1500\n",
              "home_team_score                            4\n",
              "away_team_score                            1\n",
              "tournament                          Friendly\n",
              "city                                   Seoul\n",
              "country                          South Korea\n",
              "neutral_location                       False\n",
              "shoot_out                                 No\n",
              "home_team_result                         Win\n",
              "home_team_goalkeeper_score              75.0\n",
              "away_team_goalkeeper_score               NaN\n",
              "home_team_mean_defense_score            73.0\n",
              "home_team_mean_offense_score            80.0\n",
              "home_team_mean_midfield_score           73.8\n",
              "away_team_mean_defense_score             NaN\n",
              "away_team_mean_offense_score            79.3\n",
              "away_team_mean_midfield_score           70.8\n",
              "rank_difference                           -3\n",
              "average_rank                            30.5\n",
              "point_difference                          19\n",
              "score_difference                           3\n",
              "is_won                                  True\n",
              "is_stake                               False\n",
              "is_worldcup                            False\n",
              "rank_change                                0\n",
              "home_rank_change                           0\n",
              "away_rank_change                           0\n",
              "rank_change_diff                           0\n",
              "is_home_pos                            False\n",
              "is_away_pos                            False\n",
              "home_recent_wins                           7\n",
              "away_recent_wins                           3\n",
              "Name: 23920, dtype: object"
            ]
          },
          "metadata": {},
          "execution_count": 31
        }
      ]
    },
    {
      "cell_type": "markdown",
      "metadata": {
        "id": "Wj4wuf3QzfCu"
      },
      "source": [
        "## 5. 모델 학습"
      ]
    },
    {
      "cell_type": "code",
      "execution_count": null,
      "metadata": {
        "id": "UEQNlIySziai"
      },
      "outputs": [],
      "source": [
        "from sklearn import linear_model\n",
        "from sklearn import ensemble\n",
        "from sklearn.model_selection import train_test_split\n",
        "from sklearn.metrics import confusion_matrix, roc_curve, roc_auc_score\n",
        "from sklearn.pipeline import Pipeline\n",
        "from sklearn.preprocessing import PolynomialFeatures\n",
        "\n",
        "# machine learning\n",
        "from sklearn.linear_model import LogisticRegression\n",
        "from sklearn.svm import SVC, LinearSVC\n",
        "from sklearn.ensemble import RandomForestClassifier\n",
        "from sklearn.neighbors import KNeighborsClassifier\n",
        "from sklearn.naive_bayes import GaussianNB\n",
        "from sklearn.linear_model import Perceptron\n",
        "from sklearn.linear_model import SGDClassifier\n",
        "from sklearn.tree import DecisionTreeClassifier"
      ]
    },
    {
      "cell_type": "code",
      "source": [
        "match_df.head()"
      ],
      "metadata": {
        "colab": {
          "base_uri": "https://localhost:8080/",
          "height": 386
        },
        "id": "RlXfBNWAeVyr",
        "outputId": "8792c774-d93c-4225-a436-96ad555f9ae5"
      },
      "execution_count": null,
      "outputs": [
        {
          "output_type": "execute_result",
          "data": {
            "text/plain": [
              "         date home_team     away_team home_team_continent away_team_continent  \\\n",
              "0  1993-08-08   Bolivia       Uruguay       South America       South America   \n",
              "1  1993-08-08    Brazil        Mexico       South America       North America   \n",
              "2  1993-08-08   Ecuador     Venezuela       South America       South America   \n",
              "3  1993-08-08    Guinea  Sierra Leone              Africa              Africa   \n",
              "4  1993-08-08  Paraguay     Argentina       South America       South America   \n",
              "\n",
              "   home_team_fifa_rank  away_team_fifa_rank  home_team_total_fifa_points  \\\n",
              "0                   59                   22                            0   \n",
              "1                    8                   14                            0   \n",
              "2                   35                   94                            0   \n",
              "3                   65                   86                            0   \n",
              "4                   67                    5                            0   \n",
              "\n",
              "   away_team_total_fifa_points  home_team_score  ...  is_stake is_worldcup  \\\n",
              "0                            0                3  ...      True       False   \n",
              "1                            0                1  ...     False       False   \n",
              "2                            0                5  ...      True       False   \n",
              "3                            0                1  ...     False       False   \n",
              "4                            0                1  ...      True       False   \n",
              "\n",
              "  rank_change home_rank_change  away_rank_change rank_change_diff is_home_pos  \\\n",
              "0           0              -28               -28                0       False   \n",
              "1           0                5                 5                0        True   \n",
              "2           0              -30               -30                0       False   \n",
              "3           0                2                 2                0        True   \n",
              "4           0               -1                -1                0       False   \n",
              "\n",
              "   is_away_pos  home_recent_wins  away_recent_wins  \n",
              "0        False                 0                 0  \n",
              "1         True                 0                 0  \n",
              "2        False                 0                 0  \n",
              "3         True                 0                 0  \n",
              "4        False                 0                 0  \n",
              "\n",
              "[5 rows x 40 columns]"
            ],
            "text/html": [
              "\n",
              "  <div id=\"df-a9dc49b1-4100-4caf-b1c2-38f2e52c8544\">\n",
              "    <div class=\"colab-df-container\">\n",
              "      <div>\n",
              "<style scoped>\n",
              "    .dataframe tbody tr th:only-of-type {\n",
              "        vertical-align: middle;\n",
              "    }\n",
              "\n",
              "    .dataframe tbody tr th {\n",
              "        vertical-align: top;\n",
              "    }\n",
              "\n",
              "    .dataframe thead th {\n",
              "        text-align: right;\n",
              "    }\n",
              "</style>\n",
              "<table border=\"1\" class=\"dataframe\">\n",
              "  <thead>\n",
              "    <tr style=\"text-align: right;\">\n",
              "      <th></th>\n",
              "      <th>date</th>\n",
              "      <th>home_team</th>\n",
              "      <th>away_team</th>\n",
              "      <th>home_team_continent</th>\n",
              "      <th>away_team_continent</th>\n",
              "      <th>home_team_fifa_rank</th>\n",
              "      <th>away_team_fifa_rank</th>\n",
              "      <th>home_team_total_fifa_points</th>\n",
              "      <th>away_team_total_fifa_points</th>\n",
              "      <th>home_team_score</th>\n",
              "      <th>...</th>\n",
              "      <th>is_stake</th>\n",
              "      <th>is_worldcup</th>\n",
              "      <th>rank_change</th>\n",
              "      <th>home_rank_change</th>\n",
              "      <th>away_rank_change</th>\n",
              "      <th>rank_change_diff</th>\n",
              "      <th>is_home_pos</th>\n",
              "      <th>is_away_pos</th>\n",
              "      <th>home_recent_wins</th>\n",
              "      <th>away_recent_wins</th>\n",
              "    </tr>\n",
              "  </thead>\n",
              "  <tbody>\n",
              "    <tr>\n",
              "      <th>0</th>\n",
              "      <td>1993-08-08</td>\n",
              "      <td>Bolivia</td>\n",
              "      <td>Uruguay</td>\n",
              "      <td>South America</td>\n",
              "      <td>South America</td>\n",
              "      <td>59</td>\n",
              "      <td>22</td>\n",
              "      <td>0</td>\n",
              "      <td>0</td>\n",
              "      <td>3</td>\n",
              "      <td>...</td>\n",
              "      <td>True</td>\n",
              "      <td>False</td>\n",
              "      <td>0</td>\n",
              "      <td>-28</td>\n",
              "      <td>-28</td>\n",
              "      <td>0</td>\n",
              "      <td>False</td>\n",
              "      <td>False</td>\n",
              "      <td>0</td>\n",
              "      <td>0</td>\n",
              "    </tr>\n",
              "    <tr>\n",
              "      <th>1</th>\n",
              "      <td>1993-08-08</td>\n",
              "      <td>Brazil</td>\n",
              "      <td>Mexico</td>\n",
              "      <td>South America</td>\n",
              "      <td>North America</td>\n",
              "      <td>8</td>\n",
              "      <td>14</td>\n",
              "      <td>0</td>\n",
              "      <td>0</td>\n",
              "      <td>1</td>\n",
              "      <td>...</td>\n",
              "      <td>False</td>\n",
              "      <td>False</td>\n",
              "      <td>0</td>\n",
              "      <td>5</td>\n",
              "      <td>5</td>\n",
              "      <td>0</td>\n",
              "      <td>True</td>\n",
              "      <td>True</td>\n",
              "      <td>0</td>\n",
              "      <td>0</td>\n",
              "    </tr>\n",
              "    <tr>\n",
              "      <th>2</th>\n",
              "      <td>1993-08-08</td>\n",
              "      <td>Ecuador</td>\n",
              "      <td>Venezuela</td>\n",
              "      <td>South America</td>\n",
              "      <td>South America</td>\n",
              "      <td>35</td>\n",
              "      <td>94</td>\n",
              "      <td>0</td>\n",
              "      <td>0</td>\n",
              "      <td>5</td>\n",
              "      <td>...</td>\n",
              "      <td>True</td>\n",
              "      <td>False</td>\n",
              "      <td>0</td>\n",
              "      <td>-30</td>\n",
              "      <td>-30</td>\n",
              "      <td>0</td>\n",
              "      <td>False</td>\n",
              "      <td>False</td>\n",
              "      <td>0</td>\n",
              "      <td>0</td>\n",
              "    </tr>\n",
              "    <tr>\n",
              "      <th>3</th>\n",
              "      <td>1993-08-08</td>\n",
              "      <td>Guinea</td>\n",
              "      <td>Sierra Leone</td>\n",
              "      <td>Africa</td>\n",
              "      <td>Africa</td>\n",
              "      <td>65</td>\n",
              "      <td>86</td>\n",
              "      <td>0</td>\n",
              "      <td>0</td>\n",
              "      <td>1</td>\n",
              "      <td>...</td>\n",
              "      <td>False</td>\n",
              "      <td>False</td>\n",
              "      <td>0</td>\n",
              "      <td>2</td>\n",
              "      <td>2</td>\n",
              "      <td>0</td>\n",
              "      <td>True</td>\n",
              "      <td>True</td>\n",
              "      <td>0</td>\n",
              "      <td>0</td>\n",
              "    </tr>\n",
              "    <tr>\n",
              "      <th>4</th>\n",
              "      <td>1993-08-08</td>\n",
              "      <td>Paraguay</td>\n",
              "      <td>Argentina</td>\n",
              "      <td>South America</td>\n",
              "      <td>South America</td>\n",
              "      <td>67</td>\n",
              "      <td>5</td>\n",
              "      <td>0</td>\n",
              "      <td>0</td>\n",
              "      <td>1</td>\n",
              "      <td>...</td>\n",
              "      <td>True</td>\n",
              "      <td>False</td>\n",
              "      <td>0</td>\n",
              "      <td>-1</td>\n",
              "      <td>-1</td>\n",
              "      <td>0</td>\n",
              "      <td>False</td>\n",
              "      <td>False</td>\n",
              "      <td>0</td>\n",
              "      <td>0</td>\n",
              "    </tr>\n",
              "  </tbody>\n",
              "</table>\n",
              "<p>5 rows × 40 columns</p>\n",
              "</div>\n",
              "      <button class=\"colab-df-convert\" onclick=\"convertToInteractive('df-a9dc49b1-4100-4caf-b1c2-38f2e52c8544')\"\n",
              "              title=\"Convert this dataframe to an interactive table.\"\n",
              "              style=\"display:none;\">\n",
              "        \n",
              "  <svg xmlns=\"http://www.w3.org/2000/svg\" height=\"24px\"viewBox=\"0 0 24 24\"\n",
              "       width=\"24px\">\n",
              "    <path d=\"M0 0h24v24H0V0z\" fill=\"none\"/>\n",
              "    <path d=\"M18.56 5.44l.94 2.06.94-2.06 2.06-.94-2.06-.94-.94-2.06-.94 2.06-2.06.94zm-11 1L8.5 8.5l.94-2.06 2.06-.94-2.06-.94L8.5 2.5l-.94 2.06-2.06.94zm10 10l.94 2.06.94-2.06 2.06-.94-2.06-.94-.94-2.06-.94 2.06-2.06.94z\"/><path d=\"M17.41 7.96l-1.37-1.37c-.4-.4-.92-.59-1.43-.59-.52 0-1.04.2-1.43.59L10.3 9.45l-7.72 7.72c-.78.78-.78 2.05 0 2.83L4 21.41c.39.39.9.59 1.41.59.51 0 1.02-.2 1.41-.59l7.78-7.78 2.81-2.81c.8-.78.8-2.07 0-2.86zM5.41 20L4 18.59l7.72-7.72 1.47 1.35L5.41 20z\"/>\n",
              "  </svg>\n",
              "      </button>\n",
              "      \n",
              "  <style>\n",
              "    .colab-df-container {\n",
              "      display:flex;\n",
              "      flex-wrap:wrap;\n",
              "      gap: 12px;\n",
              "    }\n",
              "\n",
              "    .colab-df-convert {\n",
              "      background-color: #E8F0FE;\n",
              "      border: none;\n",
              "      border-radius: 50%;\n",
              "      cursor: pointer;\n",
              "      display: none;\n",
              "      fill: #1967D2;\n",
              "      height: 32px;\n",
              "      padding: 0 0 0 0;\n",
              "      width: 32px;\n",
              "    }\n",
              "\n",
              "    .colab-df-convert:hover {\n",
              "      background-color: #E2EBFA;\n",
              "      box-shadow: 0px 1px 2px rgba(60, 64, 67, 0.3), 0px 1px 3px 1px rgba(60, 64, 67, 0.15);\n",
              "      fill: #174EA6;\n",
              "    }\n",
              "\n",
              "    [theme=dark] .colab-df-convert {\n",
              "      background-color: #3B4455;\n",
              "      fill: #D2E3FC;\n",
              "    }\n",
              "\n",
              "    [theme=dark] .colab-df-convert:hover {\n",
              "      background-color: #434B5C;\n",
              "      box-shadow: 0px 1px 3px 1px rgba(0, 0, 0, 0.15);\n",
              "      filter: drop-shadow(0px 1px 2px rgba(0, 0, 0, 0.3));\n",
              "      fill: #FFFFFF;\n",
              "    }\n",
              "  </style>\n",
              "\n",
              "      <script>\n",
              "        const buttonEl =\n",
              "          document.querySelector('#df-a9dc49b1-4100-4caf-b1c2-38f2e52c8544 button.colab-df-convert');\n",
              "        buttonEl.style.display =\n",
              "          google.colab.kernel.accessAllowed ? 'block' : 'none';\n",
              "\n",
              "        async function convertToInteractive(key) {\n",
              "          const element = document.querySelector('#df-a9dc49b1-4100-4caf-b1c2-38f2e52c8544');\n",
              "          const dataTable =\n",
              "            await google.colab.kernel.invokeFunction('convertToInteractive',\n",
              "                                                     [key], {});\n",
              "          if (!dataTable) return;\n",
              "\n",
              "          const docLinkHtml = 'Like what you see? Visit the ' +\n",
              "            '<a target=\"_blank\" href=https://colab.research.google.com/notebooks/data_table.ipynb>data table notebook</a>'\n",
              "            + ' to learn more about interactive tables.';\n",
              "          element.innerHTML = '';\n",
              "          dataTable['output_type'] = 'display_data';\n",
              "          await google.colab.output.renderOutput(dataTable, element);\n",
              "          const docLink = document.createElement('div');\n",
              "          docLink.innerHTML = docLinkHtml;\n",
              "          element.appendChild(docLink);\n",
              "        }\n",
              "      </script>\n",
              "    </div>\n",
              "  </div>\n",
              "  "
            ]
          },
          "metadata": {},
          "execution_count": 33
        }
      ]
    },
    {
      "cell_type": "code",
      "execution_count": null,
      "metadata": {
        "id": "CSM3DkyvqS1q"
      },
      "outputs": [],
      "source": [
        "X, y = match_df.loc[:,['average_rank', 'rank_difference', 'point_difference', 'is_stake', 'is_worldcup', 'is_home_pos', 'is_away_pos', 'home_recent_wins', 'away_recent_wins']], match_df['is_won']\n",
        "X_train, X_test, y_train, y_test = train_test_split(\n",
        "    X, y, test_size=0.2, random_state=42)"
      ]
    },
    {
      "cell_type": "code",
      "execution_count": null,
      "metadata": {
        "id": "5dMgd7IszJ04",
        "colab": {
          "base_uri": "https://localhost:8080/"
        },
        "outputId": "1f783bdd-910c-467d-f0a0-50596b328d9e"
      },
      "outputs": [
        {
          "output_type": "stream",
          "name": "stderr",
          "text": [
            "/usr/local/lib/python3.7/dist-packages/sklearn/linear_model/_logistic.py:818: ConvergenceWarning: lbfgs failed to converge (status=1):\n",
            "STOP: TOTAL NO. of ITERATIONS REACHED LIMIT.\n",
            "\n",
            "Increase the number of iterations (max_iter) or scale the data as shown in:\n",
            "    https://scikit-learn.org/stable/modules/preprocessing.html\n",
            "Please also refer to the documentation for alternative solver options:\n",
            "    https://scikit-learn.org/stable/modules/linear_model.html#logistic-regression\n",
            "  extra_warning_msg=_LOGISTIC_SOLVER_CONVERGENCE_MSG,\n"
          ]
        }
      ],
      "source": [
        "logreg = linear_model.LogisticRegression(C=1e-5)\n",
        "features = PolynomialFeatures(degree=2)\n",
        "model = Pipeline([\n",
        "    ('polynomial_features', features),\n",
        "    ('logistic_regression', logreg)\n",
        "])\n",
        "model = model.fit(X_train, y_train)"
      ]
    },
    {
      "cell_type": "code",
      "execution_count": null,
      "metadata": {
        "id": "pC-WDxjo0C-5",
        "colab": {
          "base_uri": "https://localhost:8080/",
          "height": 342
        },
        "outputId": "9536dca0-cd87-48dc-f38c-07afaa8be0d8"
      },
      "outputs": [
        {
          "output_type": "execute_result",
          "data": {
            "text/plain": [
              "Text(0.5, 1.0, 'Performance on the Training set')"
            ]
          },
          "metadata": {},
          "execution_count": 36
        },
        {
          "output_type": "display_data",
          "data": {
            "text/plain": [
              "<Figure size 1080x360 with 3 Axes>"
            ],
            "image/png": "[encoded data removed]"
          },
          "metadata": {
            "needs_background": "light"
          }
        }
      ],
      "source": [
        "from matplotlib import pyplot as plt\n",
        "\n",
        "# figures \n",
        "fpr, tpr, _ = roc_curve(y_test, model.predict_proba(X_test)[:,1])\n",
        "plt.figure(figsize=(15,5))\n",
        "ax = plt.subplot(1,3,1)\n",
        "ax.plot([0, 1], [0, 1], 'k--')\n",
        "ax.plot(fpr, tpr)\n",
        "ax.set_title('AUC score is {0:0.2}'.format(roc_auc_score(y_test, model.predict_proba(X_test)[:,1])))\n",
        "ax.set_aspect(1)\n",
        "\n",
        "ax = plt.subplot(1,3,2)\n",
        "cm = confusion_matrix(y_test, model.predict(X_test))\n",
        "ax.imshow(cm, cmap='Blues', clim = (0, cm.max())) \n",
        "\n",
        "ax.set_xlabel('Predicted label')\n",
        "ax.set_title('Performance on the Test set')\n",
        "\n",
        "ax = plt.subplot(1,3,3)\n",
        "cm = confusion_matrix(y_train, model.predict(X_train))\n",
        "ax.imshow(cm, cmap='Blues', clim = (0, cm.max())) \n",
        "ax.set_xlabel('Predicted label')\n",
        "ax.set_title('Performance on the Training set')"
      ]
    },
    {
      "cell_type": "markdown",
      "metadata": {
        "id": "1xFCBBMIzjG-"
      },
      "source": [
        "## 6. 모델 평가"
      ]
    },
    {
      "cell_type": "code",
      "execution_count": null,
      "metadata": {
        "id": "VETUkz3kUZPk"
      },
      "outputs": [],
      "source": [
        "# let's define a small margin when we safer to predict draw then win\n",
        "margin = 0.05\n",
        "\n",
        "# let's define the rankings at the time of the World Cup\n",
        "\n",
        "rank_df = rank_df.loc[(rank_df['rank_date'] == rank_df['rank_date'].max()) & \n",
        "                                    (rank_df['country_full'].isin(teams_df['Team'].unique()))]\n",
        "\n",
        "world_cup_rankings = rank_df.set_index(['country_full'])"
      ]
    },
    {
      "cell_type": "code",
      "source": [
        "world_cup_rankings.index.unique()"
      ],
      "metadata": {
        "colab": {
          "base_uri": "https://localhost:8080/"
        },
        "id": "_A6gzfItchP-",
        "outputId": "c68626c5-b1a8-4998-c4d3-53eccd6ad3d0"
      },
      "execution_count": null,
      "outputs": [
        {
          "output_type": "execute_result",
          "data": {
            "text/plain": [
              "Index(['Brazil', 'South Korea', 'Tunisia', 'Costa Rica', 'Australia', 'Canada',\n",
              "       'Cameroon', 'Ecuador', 'Poland', 'Japan', 'Belgium', 'Argentina',\n",
              "       'France', 'England', 'Spain', 'Netherlands', 'Portugal', 'Denmark',\n",
              "       'Germany', 'Croatia', 'Mexico', 'Uruguay', 'Switzerland', 'USA',\n",
              "       'Senegal', 'Wales', 'Iran', 'Serbia', 'Morocco', 'Qatar',\n",
              "       'Saudi Arabia', 'Ghana'],\n",
              "      dtype='object', name='country_full')"
            ]
          },
          "metadata": {},
          "execution_count": 38
        }
      ]
    },
    {
      "cell_type": "code",
      "source": [
        "rank_df.head()"
      ],
      "metadata": {
        "colab": {
          "base_uri": "https://localhost:8080/",
          "height": 206
        },
        "id": "5-RAaZDWeIft",
        "outputId": "842771e3-e22d-4e73-a958-fcb9f625f4b5"
      },
      "execution_count": null,
      "outputs": [
        {
          "output_type": "execute_result",
          "data": {
            "text/plain": [
              "       rank country_full country_abrv  total_points  previous_points  \\\n",
              "63809     1       Brazil          BRA       1841.30          1837.56   \n",
              "63811    28  South Korea          KOR       1530.30          1526.02   \n",
              "63813    30      Tunisia          TUN       1507.54          1507.86   \n",
              "63814    31   Costa Rica          CRC       1503.59          1500.06   \n",
              "63822    38    Australia          AUS       1488.72          1483.73   \n",
              "\n",
              "       rank_change confederation   rank_date  \n",
              "63809            0      CONMEBOL  2022-10-06  \n",
              "63811            0           AFC  2022-10-06  \n",
              "63813            0           CAF  2022-10-06  \n",
              "63814           -3      CONCACAF  2022-10-06  \n",
              "63822           -1           AFC  2022-10-06  "
            ],
            "text/html": [
              "\n",
              "  <div id=\"df-c7f8acfa-42a2-48f8-99e3-2c0ea79d3e04\">\n",
              "    <div class=\"colab-df-container\">\n",
              "      <div>\n",
              "<style scoped>\n",
              "    .dataframe tbody tr th:only-of-type {\n",
              "        vertical-align: middle;\n",
              "    }\n",
              "\n",
              "    .dataframe tbody tr th {\n",
              "        vertical-align: top;\n",
              "    }\n",
              "\n",
              "    .dataframe thead th {\n",
              "        text-align: right;\n",
              "    }\n",
              "</style>\n",
              "<table border=\"1\" class=\"dataframe\">\n",
              "  <thead>\n",
              "    <tr style=\"text-align: right;\">\n",
              "      <th></th>\n",
              "      <th>rank</th>\n",
              "      <th>country_full</th>\n",
              "      <th>country_abrv</th>\n",
              "      <th>total_points</th>\n",
              "      <th>previous_points</th>\n",
              "      <th>rank_change</th>\n",
              "      <th>confederation</th>\n",
              "      <th>rank_date</th>\n",
              "    </tr>\n",
              "  </thead>\n",
              "  <tbody>\n",
              "    <tr>\n",
              "      <th>63809</th>\n",
              "      <td>1</td>\n",
              "      <td>Brazil</td>\n",
              "      <td>BRA</td>\n",
              "      <td>1841.30</td>\n",
              "      <td>1837.56</td>\n",
              "      <td>0</td>\n",
              "      <td>CONMEBOL</td>\n",
              "      <td>2022-10-06</td>\n",
              "    </tr>\n",
              "    <tr>\n",
              "      <th>63811</th>\n",
              "      <td>28</td>\n",
              "      <td>South Korea</td>\n",
              "      <td>KOR</td>\n",
              "      <td>1530.30</td>\n",
              "      <td>1526.02</td>\n",
              "      <td>0</td>\n",
              "      <td>AFC</td>\n",
              "      <td>2022-10-06</td>\n",
              "    </tr>\n",
              "    <tr>\n",
              "      <th>63813</th>\n",
              "      <td>30</td>\n",
              "      <td>Tunisia</td>\n",
              "      <td>TUN</td>\n",
              "      <td>1507.54</td>\n",
              "      <td>1507.86</td>\n",
              "      <td>0</td>\n",
              "      <td>CAF</td>\n",
              "      <td>2022-10-06</td>\n",
              "    </tr>\n",
              "    <tr>\n",
              "      <th>63814</th>\n",
              "      <td>31</td>\n",
              "      <td>Costa Rica</td>\n",
              "      <td>CRC</td>\n",
              "      <td>1503.59</td>\n",
              "      <td>1500.06</td>\n",
              "      <td>-3</td>\n",
              "      <td>CONCACAF</td>\n",
              "      <td>2022-10-06</td>\n",
              "    </tr>\n",
              "    <tr>\n",
              "      <th>63822</th>\n",
              "      <td>38</td>\n",
              "      <td>Australia</td>\n",
              "      <td>AUS</td>\n",
              "      <td>1488.72</td>\n",
              "      <td>1483.73</td>\n",
              "      <td>-1</td>\n",
              "      <td>AFC</td>\n",
              "      <td>2022-10-06</td>\n",
              "    </tr>\n",
              "  </tbody>\n",
              "</table>\n",
              "</div>\n",
              "      <button class=\"colab-df-convert\" onclick=\"convertToInteractive('df-c7f8acfa-42a2-48f8-99e3-2c0ea79d3e04')\"\n",
              "              title=\"Convert this dataframe to an interactive table.\"\n",
              "              style=\"display:none;\">\n",
              "        \n",
              "  <svg xmlns=\"http://www.w3.org/2000/svg\" height=\"24px\"viewBox=\"0 0 24 24\"\n",
              "       width=\"24px\">\n",
              "    <path d=\"M0 0h24v24H0V0z\" fill=\"none\"/>\n",
              "    <path d=\"M18.56 5.44l.94 2.06.94-2.06 2.06-.94-2.06-.94-.94-2.06-.94 2.06-2.06.94zm-11 1L8.5 8.5l.94-2.06 2.06-.94-2.06-.94L8.5 2.5l-.94 2.06-2.06.94zm10 10l.94 2.06.94-2.06 2.06-.94-2.06-.94-.94-2.06-.94 2.06-2.06.94z\"/><path d=\"M17.41 7.96l-1.37-1.37c-.4-.4-.92-.59-1.43-.59-.52 0-1.04.2-1.43.59L10.3 9.45l-7.72 7.72c-.78.78-.78 2.05 0 2.83L4 21.41c.39.39.9.59 1.41.59.51 0 1.02-.2 1.41-.59l7.78-7.78 2.81-2.81c.8-.78.8-2.07 0-2.86zM5.41 20L4 18.59l7.72-7.72 1.47 1.35L5.41 20z\"/>\n",
              "  </svg>\n",
              "      </button>\n",
              "      \n",
              "  <style>\n",
              "    .colab-df-container {\n",
              "      display:flex;\n",
              "      flex-wrap:wrap;\n",
              "      gap: 12px;\n",
              "    }\n",
              "\n",
              "    .colab-df-convert {\n",
              "      background-color: #E8F0FE;\n",
              "      border: none;\n",
              "      border-radius: 50%;\n",
              "      cursor: pointer;\n",
              "      display: none;\n",
              "      fill: #1967D2;\n",
              "      height: 32px;\n",
              "      padding: 0 0 0 0;\n",
              "      width: 32px;\n",
              "    }\n",
              "\n",
              "    .colab-df-convert:hover {\n",
              "      background-color: #E2EBFA;\n",
              "      box-shadow: 0px 1px 2px rgba(60, 64, 67, 0.3), 0px 1px 3px 1px rgba(60, 64, 67, 0.15);\n",
              "      fill: #174EA6;\n",
              "    }\n",
              "\n",
              "    [theme=dark] .colab-df-convert {\n",
              "      background-color: #3B4455;\n",
              "      fill: #D2E3FC;\n",
              "    }\n",
              "\n",
              "    [theme=dark] .colab-df-convert:hover {\n",
              "      background-color: #434B5C;\n",
              "      box-shadow: 0px 1px 3px 1px rgba(0, 0, 0, 0.15);\n",
              "      filter: drop-shadow(0px 1px 2px rgba(0, 0, 0, 0.3));\n",
              "      fill: #FFFFFF;\n",
              "    }\n",
              "  </style>\n",
              "\n",
              "      <script>\n",
              "        const buttonEl =\n",
              "          document.querySelector('#df-c7f8acfa-42a2-48f8-99e3-2c0ea79d3e04 button.colab-df-convert');\n",
              "        buttonEl.style.display =\n",
              "          google.colab.kernel.accessAllowed ? 'block' : 'none';\n",
              "\n",
              "        async function convertToInteractive(key) {\n",
              "          const element = document.querySelector('#df-c7f8acfa-42a2-48f8-99e3-2c0ea79d3e04');\n",
              "          const dataTable =\n",
              "            await google.colab.kernel.invokeFunction('convertToInteractive',\n",
              "                                                     [key], {});\n",
              "          if (!dataTable) return;\n",
              "\n",
              "          const docLinkHtml = 'Like what you see? Visit the ' +\n",
              "            '<a target=\"_blank\" href=https://colab.research.google.com/notebooks/data_table.ipynb>data table notebook</a>'\n",
              "            + ' to learn more about interactive tables.';\n",
              "          element.innerHTML = '';\n",
              "          dataTable['output_type'] = 'display_data';\n",
              "          await google.colab.output.renderOutput(dataTable, element);\n",
              "          const docLink = document.createElement('div');\n",
              "          docLink.innerHTML = docLinkHtml;\n",
              "          element.appendChild(docLink);\n",
              "        }\n",
              "      </script>\n",
              "    </div>\n",
              "  </div>\n",
              "  "
            ]
          },
          "metadata": {},
          "execution_count": 39
        }
      ]
    },
    {
      "cell_type": "code",
      "source": [
        " # current_ranks_df = rank_df.loc[rank_df.rank_date == \"2022-10-06\"].set_index(['country_full'])"
      ],
      "metadata": {
        "id": "8OpsJTKFeVq7"
      },
      "execution_count": null,
      "outputs": []
    },
    {
      "cell_type": "code",
      "execution_count": null,
      "metadata": {
        "id": "OTQMBto_Qnx-",
        "colab": {
          "base_uri": "https://localhost:8080/"
        },
        "outputId": "6222e657-a6dc-4c3d-f99f-31e525e942c5"
      },
      "outputs": [
        {
          "output_type": "stream",
          "name": "stdout",
          "text": [
            "___Starting group D:___\n",
            "Denmark vs. Tunisia: Denmark wins with 0.60\n",
            "Denmark vs. France: France wins with 0.56\n",
            "Denmark vs. Australia: Denmark wins with 0.63\n",
            "Tunisia vs. France: France wins with 0.70\n",
            "Tunisia vs. Australia: Draw\n",
            "France vs. Australia: France wins with 0.66\n",
            "___Starting group B:___\n",
            "Iran vs. England: England wins with 0.65\n",
            "Iran vs. USA: USA wins with 0.58\n",
            "Iran vs. Wales: Draw\n",
            "England vs. USA: England wins with 0.56\n",
            "England vs. Wales: England wins with 0.57\n",
            "USA vs. Wales: Draw\n",
            "___Starting group G:___\n",
            "Switzerland vs. Cameroon: Switzerland wins with 0.62\n",
            "Switzerland vs. Brazil: Brazil wins with 0.63\n",
            "Switzerland vs. Serbia: Draw\n",
            "Cameroon vs. Brazil: Brazil wins with 0.81\n",
            "Cameroon vs. Serbia: Serbia wins with 0.66\n",
            "Brazil vs. Serbia: Brazil wins with 0.63\n",
            "___Starting group C:___\n",
            "Argentina vs. Saudi Arabia: Argentina wins with 0.75\n",
            "Argentina vs. Mexico: Argentina wins with 0.56\n",
            "Argentina vs. Poland: Argentina wins with 0.63\n",
            "Saudi Arabia vs. Mexico: Mexico wins with 0.75\n",
            "Saudi Arabia vs. Poland: Poland wins with 0.70\n",
            "Mexico vs. Poland: Draw\n",
            "___Starting group F:___\n",
            "Morocco vs. Croatia: Croatia wins with 0.60\n",
            "Morocco vs. Belgium: Belgium wins with 0.69\n",
            "Morocco vs. Canada: Morocco wins with 0.57\n",
            "Croatia vs. Belgium: Belgium wins with 0.59\n",
            "Croatia vs. Canada: Croatia wins with 0.61\n",
            "Belgium vs. Canada: Belgium wins with 0.70\n",
            "___Starting group H:___\n",
            "Uruguay vs. South Korea: Uruguay wins with 0.62\n",
            "Uruguay vs. Portugal: Draw\n",
            "Uruguay vs. Ghana: Uruguay wins with 0.68\n",
            "South Korea vs. Portugal: Portugal wins with 0.66\n",
            "South Korea vs. Ghana: South Korea wins with 0.63\n",
            "Portugal vs. Ghana: Portugal wins with 0.75\n",
            "___Starting group E:___\n",
            "Germany vs. Japan: Draw\n",
            "Germany vs. Spain: Draw\n",
            "Germany vs. Costa Rica: Germany wins with 0.58\n",
            "Japan vs. Spain: Spain wins with 0.64\n",
            "Japan vs. Costa Rica: Draw\n",
            "Spain vs. Costa Rica: Spain wins with 0.61\n",
            "___Starting group A:___\n",
            "Senegal vs. Qatar: Senegal wins with 0.64\n",
            "Senegal vs. Netherlands: Netherlands wins with 0.60\n",
            "Senegal vs. Ecuador: Senegal wins with 0.61\n",
            "Qatar vs. Netherlands: Netherlands wins with 0.78\n",
            "Qatar vs. Ecuador: Ecuador wins with 0.59\n",
            "Netherlands vs. Ecuador: Netherlands wins with 0.67\n"
          ]
        }
      ],
      "source": [
        "from itertools import combinations\n",
        "import numpy as np\n",
        "\n",
        "opponents = ['First match \\nagainst', 'Second match\\n against', 'Third match\\n against']\n",
        "\n",
        "world_cup = teams_df.set_index(['Team'])\n",
        "world_cup['points'] = 0\n",
        "world_cup['total_prob'] = 0\n",
        "world_cup['expected points'] = 0\n",
        "world_cup['rank'] = None\n",
        "\n",
        "country_win_prob = {}\n",
        "\n",
        "for country in teams_df['Team'].unique():\n",
        "    country_win_prob[country] = list()\n",
        "\n",
        "korea_win_prob = []\n",
        "\n",
        "for group in set(teams_df['Group']):\n",
        "    print('___Starting group {}:___'.format(group))\n",
        "    for home, away in combinations(teams_df.query('Group == \"{}\"'.format(group)).values, 2):\n",
        "        print(\"{} vs. {}: \".format(home[0], away[0]), end='')\n",
        "\n",
        "        home = home[0]\n",
        "        away = away[0]\n",
        "        \n",
        "        row = pd.DataFrame(np.array([[np.nan, np.nan, np.nan, True, True, True, True, np.nan, np.nan]]), columns=X_test.columns)\n",
        "        \n",
        "        if away != \"South Korea\":\n",
        "            home_rank = world_cup_rankings.loc[home, 'rank']\n",
        "            home_points = world_cup_rankings.loc[home, 'total_points']\n",
        "            opp_rank = world_cup_rankings.loc[away, 'rank']\n",
        "            opp_points = world_cup_rankings.loc[away, 'total_points']\n",
        "            is_home_pos = world_cup_rankings.loc[home, 'rank_change'] > 0\n",
        "            is_away_pos = world_cup_rankings.loc[away, 'rank_change'] > 0\n",
        "            world_cup.loc[home, 'rank'] = home_rank\n",
        "            world_cup.loc[away, 'rank'] = opp_rank\n",
        "            home_recent_wins = match_df.loc[(match_df.home_team == home)].iloc[-1]['home_recent_wins']\n",
        "            away_recent_wins = match_df.loc[(match_df.home_team == away)].iloc[-1]['home_recent_wins']\n",
        "\n",
        "        elif away == \"South Korea\":\n",
        "            home_rank = world_cup_rankings.loc[away, 'rank']\n",
        "            home_points = world_cup_rankings.loc[away, 'total_points']\n",
        "            opp_rank = world_cup_rankings.loc[home, 'rank']\n",
        "            opp_points = world_cup_rankings.loc[home, 'total_points']\n",
        "            is_away_pos = world_cup_rankings.loc[home, 'rank_change'] > 0\n",
        "            is_home_pos = world_cup_rankings.loc[away, 'rank_change'] > 0\n",
        "            world_cup.loc[away, 'rank'] = home_rank\n",
        "            world_cup.loc[home, 'rank'] = opp_rank\n",
        "            home_recent_wins = match_df.loc[(match_df.home_team == away)].iloc[-1]['home_recent_wins']\n",
        "            away_recent_wins = match_df.loc[(match_df.home_team == home)].iloc[-1]['home_recent_wins']\n",
        "            away = home\n",
        "            home = \"South Korea\"\n",
        "\n",
        "        row['average_rank'] = (home_rank + opp_rank) / 2\n",
        "        row['rank_difference'] = home_rank - opp_rank\n",
        "        row['point_difference'] = home_points - opp_points\n",
        "        row['is_home_pos'] = is_home_pos\n",
        "        row['is_away_pos'] = is_away_pos\n",
        "        row['home_recent_wins'] = home_recent_wins\n",
        "        row['away_recent_wins'] = away_recent_wins \n",
        "        \n",
        "        home_win_prob = model.predict_proba(row)[:,1][0]\n",
        "        # print(\"Probability: \", home_win_prob)\n",
        "        \n",
        "        world_cup.loc[home, 'total_prob'] += home_win_prob\n",
        "        world_cup.loc[away, 'total_prob'] += 1-home_win_prob\n",
        "\n",
        "        country_win_prob[home].append(home_win_prob)\n",
        "        country_win_prob[away].append(1-home_win_prob)\n",
        "        \n",
        "        points = 0\n",
        "        if home_win_prob <= 0.5 - margin:\n",
        "            print(\"{} wins with {:.2f}\".format(away, 1-home_win_prob))\n",
        "            world_cup.loc[away, 'points'] += 3\n",
        "            world_cup.loc[away, 'expected points'] += (1-home_win_prob) * 3\n",
        "        if home_win_prob > 0.5 - margin:\n",
        "            points = 1\n",
        "        if home_win_prob >= 0.5 + margin:\n",
        "            points = 3\n",
        "            world_cup.loc[home, 'points'] += 3\n",
        "            world_cup.loc[home, 'expected points'] += home_win_prob * 3\n",
        "            print(\"{} wins with {:.2f}\".format(home, home_win_prob))\n",
        "        if points == 1:\n",
        "            print(\"Draw\")\n",
        "            world_cup.loc[home, 'points'] += 1\n",
        "            world_cup.loc[away, 'points'] += 1\n",
        "            world_cup.loc[home, 'expected points'] += home_win_prob * 1\n",
        "            world_cup.loc[away, 'expected points'] += (1-home_win_prob) * 1\n",
        "        \n",
        "        if home == \"South Korea\":\n",
        "            korea_win_prob.append((away, home_win_prob))"
      ]
    },
    {
      "cell_type": "code",
      "execution_count": null,
      "metadata": {
        "id": "xYbAWA6tX6yn",
        "colab": {
          "base_uri": "https://localhost:8080/"
        },
        "outputId": "f8b80c19-d7d5-4dc4-fc02-4ce9c182ae09"
      },
      "outputs": [
        {
          "output_type": "stream",
          "name": "stdout",
          "text": [
            "___Starting group D:___\n",
            "Denmark :  3.683836633618955\n",
            "Tunisia :  0.49262584176399643\n",
            "France :  5.7914942948986\n",
            "Australia :  0.5073741582360036\n",
            "___Starting group B:___\n",
            "Iran :  0.46786294596094097\n",
            "England :  5.334567046403215\n",
            "USA :  2.233308254402498\n",
            "Wales :  1.0288567946675686\n",
            "___Starting group G:___\n",
            "Switzerland :  2.364041368656602\n",
            "Cameroon :  0.0\n",
            "Brazil :  6.224753903062239\n",
            "Serbia :  2.4755605340510165\n",
            "___Starting group C:___\n",
            "Argentina :  5.820694990252443\n",
            "Saudi Arabia :  0.0\n",
            "Mexico :  2.789683052766581\n",
            "Poland :  2.571562950048531\n",
            "___Starting group F:___\n",
            "Morocco :  1.7214507574864943\n",
            "Croatia :  3.6090445695010134\n",
            "Belgium :  5.942505428558924\n",
            "Canada :  0.0\n",
            "___Starting group H:___\n",
            "Uruguay :  4.34455858201\n",
            "South Korea :  1.8969756535238165\n",
            "Portugal :  4.7849302334458095\n",
            "Ghana :  0.0\n",
            "___Starting group E:___\n",
            "Germany :  2.7575727612317875\n",
            "Japan :  0.9564601213306931\n",
            "Spain :  4.308493719124598\n",
            "Costa Rica :  0.4941291839089408\n",
            "___Starting group A:___\n",
            "Senegal :  3.769552036713709\n",
            "Qatar :  0.0\n",
            "Netherlands :  6.134157461586936\n",
            "Ecuador :  1.7561724863243706\n"
          ]
        }
      ],
      "source": [
        "for group in set(teams_df['Group']):\n",
        "    print('___Starting group {}:___'.format(group))\n",
        "    teams = teams_df.query('Group == \"{}\"'.format(group)).values\n",
        "    for team_info in teams:\n",
        "        team_name = team_info[0]\n",
        "        print(team_name, \": \", world_cup.loc[team_name, \"expected points\"])"
      ]
    },
    {
      "cell_type": "code",
      "source": [
        "korea_win_prob\n",
        "\n",
        "total_prob = 0\n",
        "\n",
        "temp = 1\n",
        "for i in range(3):\n",
        "    temp = temp * korea_win_prob[i][1]\n",
        "\n",
        "total_prob += temp\n",
        "\n",
        "for i in range(3):\n",
        "    temp = 1\n",
        "    for j in range(3):\n",
        "        if i == j:\n",
        "            temp = temp * (1 - korea_win_prob[i][1])\n",
        "        else:\n",
        "            temp = temp * korea_win_prob[i][1]\n",
        "    total_prob += temp\n",
        "\n",
        "print(total_prob)"
      ],
      "metadata": {
        "colab": {
          "base_uri": "https://localhost:8080/"
        },
        "id": "w13JOEDTqvdW",
        "outputId": "ca8340fb-fbc1-44ee-fa60-9b1e61e8750e"
      },
      "execution_count": null,
      "outputs": [
        {
          "output_type": "stream",
          "name": "stdout",
          "text": [
            "0.3949488599110874\n"
          ]
        }
      ]
    },
    {
      "cell_type": "code",
      "source": [
        "for country in country_win_prob.keys():\n",
        "\n",
        "    win_prob_list = country_win_prob[country]\n",
        "\n",
        "    total_prob = 0\n",
        "    temp = 1\n",
        "    for i in range(3):\n",
        "        temp = temp * win_prob_list[i]\n",
        "\n",
        "    total_prob += temp\n",
        "\n",
        "    for i in range(3):\n",
        "        temp = 1\n",
        "        for j in range(3):\n",
        "            if i == j:\n",
        "                temp = temp * (1 - win_prob_list[i])\n",
        "            else:\n",
        "                temp = temp * win_prob_list[i]\n",
        "        total_prob += temp\n",
        "    \n",
        "    print(country, \":\", total_prob)\n"
      ],
      "metadata": {
        "colab": {
          "base_uri": "https://localhost:8080/"
        },
        "id": "4rEz0f_n_zx0",
        "outputId": "2bc2eb29-8ce3-463f-9f16-f406359f7f61"
      },
      "execution_count": null,
      "outputs": [
        {
          "output_type": "stream",
          "name": "stdout",
          "text": [
            "Senegal : 0.5440669037946991\n",
            "Qatar : 0.2544731208380636\n",
            "Netherlands : 0.7392789969996261\n",
            "Ecuador : 0.3844176146521746\n",
            "Iran : 0.3689376500106172\n",
            "England : 0.632075424083061\n",
            "USA : 0.5044058676775469\n",
            "Wales : 0.4749208657950559\n",
            "Argentina : 0.6888716404418642\n",
            "Saudi Arabia : 0.1729113877188884\n",
            "Mexico : 0.5612121900113971\n",
            "Poland : 0.4690090648518923\n",
            "Denmark : 0.562554843481941\n",
            "Tunisia : 0.34095470085338353\n",
            "France : 0.6963984597970122\n",
            "Australia : 0.35051501390912515\n",
            "Germany : 0.5360727566628274\n",
            "Japan : 0.4032303183668911\n",
            "Spain : 0.6432595863606345\n",
            "Costa Rica : 0.39474565359881675\n",
            "Morocco : 0.37517899260093723\n",
            "Croatia : 0.5381133402213696\n",
            "Belgium : 0.7216208864088002\n",
            "Canada : 0.30962116472685414\n",
            "Switzerland : 0.4760002607244377\n",
            "Cameroon : 0.21852289730782354\n",
            "Brazil : 0.7412390918450229\n",
            "Serbia : 0.4750956449511845\n",
            "Uruguay : 0.5949875943498474\n",
            "South Korea : 0.3949488599110874\n",
            "Portugal : 0.6972050864661004\n",
            "Ghana : 0.231078413830103\n"
          ]
        }
      ]
    },
    {
      "cell_type": "code",
      "source": [
        "# Logistic Regression\n",
        "\n",
        "logreg = LogisticRegression()\n",
        "logreg.fit(X_train, y_train)\n",
        "lg_pred = logreg.predict(X_test)\n",
        "acc_log = round(logreg.score(X_test, y_test) * 100, 2)\n",
        "acc_log"
      ],
      "metadata": {
        "colab": {
          "base_uri": "https://localhost:8080/"
        },
        "id": "VV-VS_JswXKp",
        "outputId": "7a951344-8e72-4c17-b49a-30d4b0165967"
      },
      "execution_count": null,
      "outputs": [
        {
          "output_type": "execute_result",
          "data": {
            "text/plain": [
              "68.36"
            ]
          },
          "metadata": {},
          "execution_count": 44
        }
      ]
    },
    {
      "cell_type": "code",
      "source": [
        "# Support Vector Machines\n",
        "\n",
        "svc = SVC()\n",
        "svc.fit(X_train, y_train)\n",
        "svm_pred = svc.predict(X_test)\n",
        "acc_svc = round(svc.score(X_test, y_test) * 100, 2)\n",
        "acc_svc"
      ],
      "metadata": {
        "colab": {
          "base_uri": "https://localhost:8080/"
        },
        "id": "nvtYWrQJvVuI",
        "outputId": "d1f90cc5-a9c3-44cc-93b1-4c939f3acb0b"
      },
      "execution_count": null,
      "outputs": [
        {
          "output_type": "execute_result",
          "data": {
            "text/plain": [
              "68.19"
            ]
          },
          "metadata": {},
          "execution_count": 45
        }
      ]
    },
    {
      "cell_type": "code",
      "source": [
        "# KNN\n",
        "\n",
        "knn = KNeighborsClassifier(n_neighbors = 3)\n",
        "knn.fit(X_train, y_train)\n",
        "Y_pred = knn.predict(X_test)\n",
        "acc_knn = round(knn.score(X_test, y_test) * 100, 2)\n",
        "acc_knn"
      ],
      "metadata": {
        "colab": {
          "base_uri": "https://localhost:8080/"
        },
        "id": "R9Qnto6_vqzf",
        "outputId": "57cba253-35c0-4afc-a05b-70546ff5b91c"
      },
      "execution_count": null,
      "outputs": [
        {
          "output_type": "execute_result",
          "data": {
            "text/plain": [
              "62.72"
            ]
          },
          "metadata": {},
          "execution_count": 46
        }
      ]
    },
    {
      "cell_type": "code",
      "source": [
        "# Gaussian Naive Bayes\n",
        "\n",
        "gaussian = GaussianNB()\n",
        "gaussian.fit(X_train, y_train)\n",
        "gnb_pred = gaussian.predict(X_test)\n",
        "acc_gaussian = round(gaussian.score(X_test, y_test) * 100, 2)\n",
        "acc_gaussian"
      ],
      "metadata": {
        "colab": {
          "base_uri": "https://localhost:8080/"
        },
        "id": "kdNKj27KvtgX",
        "outputId": "a882e391-d8aa-4262-dfe2-0833916a8e3b"
      },
      "execution_count": null,
      "outputs": [
        {
          "output_type": "execute_result",
          "data": {
            "text/plain": [
              "67.25"
            ]
          },
          "metadata": {},
          "execution_count": 47
        }
      ]
    },
    {
      "cell_type": "code",
      "source": [
        "# Decision Tree\n",
        "\n",
        "decision_tree = DecisionTreeClassifier()\n",
        "decision_tree.fit(X_train, y_train)\n",
        "Y_pred = decision_tree.predict(X_test)\n",
        "acc_decision_tree = round(decision_tree.score(X_test, y_test) * 100, 2)\n",
        "acc_decision_tree"
      ],
      "metadata": {
        "colab": {
          "base_uri": "https://localhost:8080/"
        },
        "id": "ipm3vWJYv5Kw",
        "outputId": "bf9d52b9-f984-47d8-a771-75851b75a8a3"
      },
      "execution_count": null,
      "outputs": [
        {
          "output_type": "execute_result",
          "data": {
            "text/plain": [
              "58.77"
            ]
          },
          "metadata": {},
          "execution_count": 48
        }
      ]
    },
    {
      "cell_type": "code",
      "source": [
        "# Random Forest\n",
        "\n",
        "random_forest = RandomForestClassifier(n_estimators=100)\n",
        "random_forest.fit(X_train, y_train)\n",
        "Y_pred = random_forest.predict(X_test)\n",
        "random_forest.score(X_train, y_train)\n",
        "acc_random_forest = round(random_forest.score(X_test, y_test) * 100, 2)\n",
        "acc_random_forest"
      ],
      "metadata": {
        "colab": {
          "base_uri": "https://localhost:8080/"
        },
        "id": "czBzwRX4v_w8",
        "outputId": "40090ae4-73b5-434a-e6ad-37685854cbf5"
      },
      "execution_count": null,
      "outputs": [
        {
          "output_type": "execute_result",
          "data": {
            "text/plain": [
              "65.04"
            ]
          },
          "metadata": {},
          "execution_count": 49
        }
      ]
    },
    {
      "cell_type": "code",
      "source": [
        "# Stochastic Gradient Descent\n",
        "\n",
        "sgd = SGDClassifier()\n",
        "sgd.fit(X_train, y_train)\n",
        "Y_pred = sgd.predict(X_test)\n",
        "acc_sgd = round(sgd.score(X_test, y_test) * 100, 2)\n",
        "acc_sgd"
      ],
      "metadata": {
        "colab": {
          "base_uri": "https://localhost:8080/"
        },
        "id": "16sUp1vbv-Ev",
        "outputId": "32ea2971-d555-4f73-f8f8-7e0d8d919fa5"
      },
      "execution_count": null,
      "outputs": [
        {
          "output_type": "execute_result",
          "data": {
            "text/plain": [
              "68.13"
            ]
          },
          "metadata": {},
          "execution_count": 50
        }
      ]
    },
    {
      "cell_type": "code",
      "source": [
        "# Perceptron\n",
        "\n",
        "perceptron = Perceptron()\n",
        "perceptron.fit(X_train, y_train)\n",
        "Y_pred = perceptron.predict(X_test)\n",
        "acc_perceptron = round(perceptron.score(X_test, y_test) * 100, 2)\n",
        "acc_perceptron"
      ],
      "metadata": {
        "colab": {
          "base_uri": "https://localhost:8080/"
        },
        "id": "6NABLyh7wqCA",
        "outputId": "47257e5d-c100-4a53-8b79-7683b6daef18"
      },
      "execution_count": null,
      "outputs": [
        {
          "output_type": "execute_result",
          "data": {
            "text/plain": [
              "59.73"
            ]
          },
          "metadata": {},
          "execution_count": 51
        }
      ]
    },
    {
      "cell_type": "code",
      "source": [
        "# Linear SVC\n",
        "\n",
        "linear_svc = LinearSVC()\n",
        "linear_svc.fit(X_train, y_train)\n",
        "Y_pred = linear_svc.predict(X_test)\n",
        "acc_linear_svc = round(linear_svc.score(X_test, y_test) * 100, 2)\n",
        "acc_linear_svc"
      ],
      "metadata": {
        "colab": {
          "base_uri": "https://localhost:8080/"
        },
        "id": "VyiCfZBMwuvo",
        "outputId": "d57739bf-7d69-46e4-aab9-54d87857ab58"
      },
      "execution_count": null,
      "outputs": [
        {
          "output_type": "stream",
          "name": "stderr",
          "text": [
            "/usr/local/lib/python3.7/dist-packages/sklearn/svm/_base.py:1208: ConvergenceWarning: Liblinear failed to converge, increase the number of iterations.\n",
            "  ConvergenceWarning,\n"
          ]
        },
        {
          "output_type": "execute_result",
          "data": {
            "text/plain": [
              "40.96"
            ]
          },
          "metadata": {},
          "execution_count": 52
        }
      ]
    },
    {
      "cell_type": "code",
      "source": [
        "models = pd.DataFrame({\n",
        "    'Model': ['Support Vector Machines', 'KNN', 'Logistic Regression', \n",
        "              'Random Forest', 'Naive Bayes', 'Perceptron', \n",
        "              'Stochastic Gradient Decent', 'Linear SVC', \n",
        "              'Decision Tree'],\n",
        "    'Score': [acc_svc, acc_knn, acc_log, \n",
        "              acc_random_forest, acc_gaussian, acc_perceptron, \n",
        "              acc_sgd, acc_linear_svc, acc_decision_tree]})\n",
        "models.sort_values(by='Score', ascending=False)"
      ],
      "metadata": {
        "colab": {
          "base_uri": "https://localhost:8080/",
          "height": 332
        },
        "id": "DkGZDMd0v-Jf",
        "outputId": "8a32f508-f01b-44d3-dae0-7b8978e8761e"
      },
      "execution_count": null,
      "outputs": [
        {
          "output_type": "execute_result",
          "data": {
            "text/plain": [
              "                        Model  Score\n",
              "2         Logistic Regression  68.36\n",
              "0     Support Vector Machines  68.19\n",
              "6  Stochastic Gradient Decent  68.13\n",
              "4                 Naive Bayes  67.25\n",
              "3               Random Forest  65.04\n",
              "1                         KNN  62.72\n",
              "5                  Perceptron  59.73\n",
              "8               Decision Tree  58.77\n",
              "7                  Linear SVC  40.96"
            ],
            "text/html": [
              "\n",
              "  <div id=\"df-1cd328bd-b2d7-4818-8869-4c95c36b7c53\">\n",
              "    <div class=\"colab-df-container\">\n",
              "      <div>\n",
              "<style scoped>\n",
              "    .dataframe tbody tr th:only-of-type {\n",
              "        vertical-align: middle;\n",
              "    }\n",
              "\n",
              "    .dataframe tbody tr th {\n",
              "        vertical-align: top;\n",
              "    }\n",
              "\n",
              "    .dataframe thead th {\n",
              "        text-align: right;\n",
              "    }\n",
              "</style>\n",
              "<table border=\"1\" class=\"dataframe\">\n",
              "  <thead>\n",
              "    <tr style=\"text-align: right;\">\n",
              "      <th></th>\n",
              "      <th>Model</th>\n",
              "      <th>Score</th>\n",
              "    </tr>\n",
              "  </thead>\n",
              "  <tbody>\n",
              "    <tr>\n",
              "      <th>2</th>\n",
              "      <td>Logistic Regression</td>\n",
              "      <td>68.36</td>\n",
              "    </tr>\n",
              "    <tr>\n",
              "      <th>0</th>\n",
              "      <td>Support Vector Machines</td>\n",
              "      <td>68.19</td>\n",
              "    </tr>\n",
              "    <tr>\n",
              "      <th>6</th>\n",
              "      <td>Stochastic Gradient Decent</td>\n",
              "      <td>68.13</td>\n",
              "    </tr>\n",
              "    <tr>\n",
              "      <th>4</th>\n",
              "      <td>Naive Bayes</td>\n",
              "      <td>67.25</td>\n",
              "    </tr>\n",
              "    <tr>\n",
              "      <th>3</th>\n",
              "      <td>Random Forest</td>\n",
              "      <td>65.04</td>\n",
              "    </tr>\n",
              "    <tr>\n",
              "      <th>1</th>\n",
              "      <td>KNN</td>\n",
              "      <td>62.72</td>\n",
              "    </tr>\n",
              "    <tr>\n",
              "      <th>5</th>\n",
              "      <td>Perceptron</td>\n",
              "      <td>59.73</td>\n",
              "    </tr>\n",
              "    <tr>\n",
              "      <th>8</th>\n",
              "      <td>Decision Tree</td>\n",
              "      <td>58.77</td>\n",
              "    </tr>\n",
              "    <tr>\n",
              "      <th>7</th>\n",
              "      <td>Linear SVC</td>\n",
              "      <td>40.96</td>\n",
              "    </tr>\n",
              "  </tbody>\n",
              "</table>\n",
              "</div>\n",
              "      <button class=\"colab-df-convert\" onclick=\"convertToInteractive('df-1cd328bd-b2d7-4818-8869-4c95c36b7c53')\"\n",
              "              title=\"Convert this dataframe to an interactive table.\"\n",
              "              style=\"display:none;\">\n",
              "        \n",
              "  <svg xmlns=\"http://www.w3.org/2000/svg\" height=\"24px\"viewBox=\"0 0 24 24\"\n",
              "       width=\"24px\">\n",
              "    <path d=\"M0 0h24v24H0V0z\" fill=\"none\"/>\n",
              "    <path d=\"M18.56 5.44l.94 2.06.94-2.06 2.06-.94-2.06-.94-.94-2.06-.94 2.06-2.06.94zm-11 1L8.5 8.5l.94-2.06 2.06-.94-2.06-.94L8.5 2.5l-.94 2.06-2.06.94zm10 10l.94 2.06.94-2.06 2.06-.94-2.06-.94-.94-2.06-.94 2.06-2.06.94z\"/><path d=\"M17.41 7.96l-1.37-1.37c-.4-.4-.92-.59-1.43-.59-.52 0-1.04.2-1.43.59L10.3 9.45l-7.72 7.72c-.78.78-.78 2.05 0 2.83L4 21.41c.39.39.9.59 1.41.59.51 0 1.02-.2 1.41-.59l7.78-7.78 2.81-2.81c.8-.78.8-2.07 0-2.86zM5.41 20L4 18.59l7.72-7.72 1.47 1.35L5.41 20z\"/>\n",
              "  </svg>\n",
              "      </button>\n",
              "      \n",
              "  <style>\n",
              "    .colab-df-container {\n",
              "      display:flex;\n",
              "      flex-wrap:wrap;\n",
              "      gap: 12px;\n",
              "    }\n",
              "\n",
              "    .colab-df-convert {\n",
              "      background-color: #E8F0FE;\n",
              "      border: none;\n",
              "      border-radius: 50%;\n",
              "      cursor: pointer;\n",
              "      display: none;\n",
              "      fill: #1967D2;\n",
              "      height: 32px;\n",
              "      padding: 0 0 0 0;\n",
              "      width: 32px;\n",
              "    }\n",
              "\n",
              "    .colab-df-convert:hover {\n",
              "      background-color: #E2EBFA;\n",
              "      box-shadow: 0px 1px 2px rgba(60, 64, 67, 0.3), 0px 1px 3px 1px rgba(60, 64, 67, 0.15);\n",
              "      fill: #174EA6;\n",
              "    }\n",
              "\n",
              "    [theme=dark] .colab-df-convert {\n",
              "      background-color: #3B4455;\n",
              "      fill: #D2E3FC;\n",
              "    }\n",
              "\n",
              "    [theme=dark] .colab-df-convert:hover {\n",
              "      background-color: #434B5C;\n",
              "      box-shadow: 0px 1px 3px 1px rgba(0, 0, 0, 0.15);\n",
              "      filter: drop-shadow(0px 1px 2px rgba(0, 0, 0, 0.3));\n",
              "      fill: #FFFFFF;\n",
              "    }\n",
              "  </style>\n",
              "\n",
              "      <script>\n",
              "        const buttonEl =\n",
              "          document.querySelector('#df-1cd328bd-b2d7-4818-8869-4c95c36b7c53 button.colab-df-convert');\n",
              "        buttonEl.style.display =\n",
              "          google.colab.kernel.accessAllowed ? 'block' : 'none';\n",
              "\n",
              "        async function convertToInteractive(key) {\n",
              "          const element = document.querySelector('#df-1cd328bd-b2d7-4818-8869-4c95c36b7c53');\n",
              "          const dataTable =\n",
              "            await google.colab.kernel.invokeFunction('convertToInteractive',\n",
              "                                                     [key], {});\n",
              "          if (!dataTable) return;\n",
              "\n",
              "          const docLinkHtml = 'Like what you see? Visit the ' +\n",
              "            '<a target=\"_blank\" href=https://colab.research.google.com/notebooks/data_table.ipynb>data table notebook</a>'\n",
              "            + ' to learn more about interactive tables.';\n",
              "          element.innerHTML = '';\n",
              "          dataTable['output_type'] = 'display_data';\n",
              "          await google.colab.output.renderOutput(dataTable, element);\n",
              "          const docLink = document.createElement('div');\n",
              "          docLink.innerHTML = docLinkHtml;\n",
              "          element.appendChild(docLink);\n",
              "        }\n",
              "      </script>\n",
              "    </div>\n",
              "  </div>\n",
              "  "
            ]
          },
          "metadata": {},
          "execution_count": 53
        }
      ]
    },
    {
      "cell_type": "code",
      "source": [
        "gnb_pred\n",
        "lg_pred\n",
        "svm_pred\n",
        "\n",
        "final_pred = []\n",
        "\n",
        "for i in range(len(svm_pred)):\n",
        "    x = int(gnb_pred[i] == True)\n",
        "    y = int(lg_pred[i] == True)\n",
        "    z = int(svm_pred[i] == True)\n",
        "\n",
        "    if x+y+z > 1:\n",
        "        final_pred.append(True)\n",
        "    else:\n",
        "        final_pred.append(False)\n",
        "\n",
        "y_test = y_test.tolist()"
      ],
      "metadata": {
        "id": "2VGe_argtcBW"
      },
      "execution_count": null,
      "outputs": []
    },
    {
      "cell_type": "markdown",
      "source": [
        "# 앙상블 최종 결과"
      ],
      "metadata": {
        "id": "dCEDrUjNuvR1"
      }
    },
    {
      "cell_type": "code",
      "source": [
        "sum(1 for x,y in zip(y_test,final_pred) if x == y) / len(y_test)\n"
      ],
      "metadata": {
        "colab": {
          "base_uri": "https://localhost:8080/"
        },
        "id": "ElCUfxddunUm",
        "outputId": "94b7b07d-5f37-4e73-b1e5-ff1257734cc3"
      },
      "execution_count": null,
      "outputs": [
        {
          "output_type": "execute_result",
          "data": {
            "text/plain": [
              "0.6833855799373041"
            ]
          },
          "metadata": {},
          "execution_count": 55
        }
      ]
    },
    {
      "cell_type": "code",
      "execution_count": null,
      "metadata": {
        "id": "UMQRRxWeTI7c",
        "colab": {
          "base_uri": "https://localhost:8080/",
          "height": 237
        },
        "outputId": "7b2bcf88-da5c-4b8b-b860-62e82b147dff"
      },
      "outputs": [
        {
          "output_type": "execute_result",
          "data": {
            "text/plain": [
              "            Group  points  total_prob  expected points rank\n",
              "Team                                                       \n",
              "Senegal         A       6    1.652717         3.769552   18\n",
              "Qatar           A       0    0.995105         0.000000   50\n",
              "Netherlands     A       9    2.044719         6.134157    8\n",
              "Ecuador         A       3    1.307459         1.756172   44\n",
              "Iran            B       1    1.241503         0.467863   20"
            ],
            "text/html": [
              "\n",
              "  <div id=\"df-02ac2add-3278-4b3f-8c90-0c6e0fe714ac\">\n",
              "    <div class=\"colab-df-container\">\n",
              "      <div>\n",
              "<style scoped>\n",
              "    .dataframe tbody tr th:only-of-type {\n",
              "        vertical-align: middle;\n",
              "    }\n",
              "\n",
              "    .dataframe tbody tr th {\n",
              "        vertical-align: top;\n",
              "    }\n",
              "\n",
              "    .dataframe thead th {\n",
              "        text-align: right;\n",
              "    }\n",
              "</style>\n",
              "<table border=\"1\" class=\"dataframe\">\n",
              "  <thead>\n",
              "    <tr style=\"text-align: right;\">\n",
              "      <th></th>\n",
              "      <th>Group</th>\n",
              "      <th>points</th>\n",
              "      <th>total_prob</th>\n",
              "      <th>expected points</th>\n",
              "      <th>rank</th>\n",
              "    </tr>\n",
              "    <tr>\n",
              "      <th>Team</th>\n",
              "      <th></th>\n",
              "      <th></th>\n",
              "      <th></th>\n",
              "      <th></th>\n",
              "      <th></th>\n",
              "    </tr>\n",
              "  </thead>\n",
              "  <tbody>\n",
              "    <tr>\n",
              "      <th>Senegal</th>\n",
              "      <td>A</td>\n",
              "      <td>6</td>\n",
              "      <td>1.652717</td>\n",
              "      <td>3.769552</td>\n",
              "      <td>18</td>\n",
              "    </tr>\n",
              "    <tr>\n",
              "      <th>Qatar</th>\n",
              "      <td>A</td>\n",
              "      <td>0</td>\n",
              "      <td>0.995105</td>\n",
              "      <td>0.000000</td>\n",
              "      <td>50</td>\n",
              "    </tr>\n",
              "    <tr>\n",
              "      <th>Netherlands</th>\n",
              "      <td>A</td>\n",
              "      <td>9</td>\n",
              "      <td>2.044719</td>\n",
              "      <td>6.134157</td>\n",
              "      <td>8</td>\n",
              "    </tr>\n",
              "    <tr>\n",
              "      <th>Ecuador</th>\n",
              "      <td>A</td>\n",
              "      <td>3</td>\n",
              "      <td>1.307459</td>\n",
              "      <td>1.756172</td>\n",
              "      <td>44</td>\n",
              "    </tr>\n",
              "    <tr>\n",
              "      <th>Iran</th>\n",
              "      <td>B</td>\n",
              "      <td>1</td>\n",
              "      <td>1.241503</td>\n",
              "      <td>0.467863</td>\n",
              "      <td>20</td>\n",
              "    </tr>\n",
              "  </tbody>\n",
              "</table>\n",
              "</div>\n",
              "      <button class=\"colab-df-convert\" onclick=\"convertToInteractive('df-02ac2add-3278-4b3f-8c90-0c6e0fe714ac')\"\n",
              "              title=\"Convert this dataframe to an interactive table.\"\n",
              "              style=\"display:none;\">\n",
              "        \n",
              "  <svg xmlns=\"http://www.w3.org/2000/svg\" height=\"24px\"viewBox=\"0 0 24 24\"\n",
              "       width=\"24px\">\n",
              "    <path d=\"M0 0h24v24H0V0z\" fill=\"none\"/>\n",
              "    <path d=\"M18.56 5.44l.94 2.06.94-2.06 2.06-.94-2.06-.94-.94-2.06-.94 2.06-2.06.94zm-11 1L8.5 8.5l.94-2.06 2.06-.94-2.06-.94L8.5 2.5l-.94 2.06-2.06.94zm10 10l.94 2.06.94-2.06 2.06-.94-2.06-.94-.94-2.06-.94 2.06-2.06.94z\"/><path d=\"M17.41 7.96l-1.37-1.37c-.4-.4-.92-.59-1.43-.59-.52 0-1.04.2-1.43.59L10.3 9.45l-7.72 7.72c-.78.78-.78 2.05 0 2.83L4 21.41c.39.39.9.59 1.41.59.51 0 1.02-.2 1.41-.59l7.78-7.78 2.81-2.81c.8-.78.8-2.07 0-2.86zM5.41 20L4 18.59l7.72-7.72 1.47 1.35L5.41 20z\"/>\n",
              "  </svg>\n",
              "      </button>\n",
              "      \n",
              "  <style>\n",
              "    .colab-df-container {\n",
              "      display:flex;\n",
              "      flex-wrap:wrap;\n",
              "      gap: 12px;\n",
              "    }\n",
              "\n",
              "    .colab-df-convert {\n",
              "      background-color: #E8F0FE;\n",
              "      border: none;\n",
              "      border-radius: 50%;\n",
              "      cursor: pointer;\n",
              "      display: none;\n",
              "      fill: #1967D2;\n",
              "      height: 32px;\n",
              "      padding: 0 0 0 0;\n",
              "      width: 32px;\n",
              "    }\n",
              "\n",
              "    .colab-df-convert:hover {\n",
              "      background-color: #E2EBFA;\n",
              "      box-shadow: 0px 1px 2px rgba(60, 64, 67, 0.3), 0px 1px 3px 1px rgba(60, 64, 67, 0.15);\n",
              "      fill: #174EA6;\n",
              "    }\n",
              "\n",
              "    [theme=dark] .colab-df-convert {\n",
              "      background-color: #3B4455;\n",
              "      fill: #D2E3FC;\n",
              "    }\n",
              "\n",
              "    [theme=dark] .colab-df-convert:hover {\n",
              "      background-color: #434B5C;\n",
              "      box-shadow: 0px 1px 3px 1px rgba(0, 0, 0, 0.15);\n",
              "      filter: drop-shadow(0px 1px 2px rgba(0, 0, 0, 0.3));\n",
              "      fill: #FFFFFF;\n",
              "    }\n",
              "  </style>\n",
              "\n",
              "      <script>\n",
              "        const buttonEl =\n",
              "          document.querySelector('#df-02ac2add-3278-4b3f-8c90-0c6e0fe714ac button.colab-df-convert');\n",
              "        buttonEl.style.display =\n",
              "          google.colab.kernel.accessAllowed ? 'block' : 'none';\n",
              "\n",
              "        async function convertToInteractive(key) {\n",
              "          const element = document.querySelector('#df-02ac2add-3278-4b3f-8c90-0c6e0fe714ac');\n",
              "          const dataTable =\n",
              "            await google.colab.kernel.invokeFunction('convertToInteractive',\n",
              "                                                     [key], {});\n",
              "          if (!dataTable) return;\n",
              "\n",
              "          const docLinkHtml = 'Like what you see? Visit the ' +\n",
              "            '<a target=\"_blank\" href=https://colab.research.google.com/notebooks/data_table.ipynb>data table notebook</a>'\n",
              "            + ' to learn more about interactive tables.';\n",
              "          element.innerHTML = '';\n",
              "          dataTable['output_type'] = 'display_data';\n",
              "          await google.colab.output.renderOutput(dataTable, element);\n",
              "          const docLink = document.createElement('div');\n",
              "          docLink.innerHTML = docLinkHtml;\n",
              "          element.appendChild(docLink);\n",
              "        }\n",
              "      </script>\n",
              "    </div>\n",
              "  </div>\n",
              "  "
            ]
          },
          "metadata": {},
          "execution_count": 56
        }
      ],
      "source": [
        "world_cup.head()"
      ]
    },
    {
      "cell_type": "code",
      "source": [
        "world_cup.head(30)"
      ],
      "metadata": {
        "colab": {
          "base_uri": "https://localhost:8080/",
          "height": 1000
        },
        "id": "-SXccgRmfw_U",
        "outputId": "ff0e44d3-5df1-434b-bec8-b52af3b9aa2c"
      },
      "execution_count": null,
      "outputs": [
        {
          "output_type": "execute_result",
          "data": {
            "text/plain": [
              "             Group  points  total_prob  expected points rank\n",
              "Team                                                        \n",
              "Senegal          A       6    1.652717         3.769552   18\n",
              "Qatar            A       0    0.995105         0.000000   50\n",
              "Netherlands      A       9    2.044719         6.134157    8\n",
              "Ecuador          A       3    1.307459         1.756172   44\n",
              "Iran             B       1    1.241503         0.467863   20\n",
              "England          B       9    1.778189         5.334567    5\n",
              "USA              B       4    1.522837         2.233308   16\n",
              "Wales            B       2    1.457470         1.028857   19\n",
              "Argentina        C       9    1.940232         5.820695    3\n",
              "Saudi Arabia     C       0    0.793339         0.000000   51\n",
              "Mexico           C       4    1.729906         2.789683   13\n",
              "Poland           C       4    1.536523         2.571563   26\n",
              "Denmark          D       6    1.664828         3.683837   10\n",
              "Tunisia          D       1    1.192486         0.492626   30\n",
              "France           D       9    1.930498         5.791494    4\n",
              "Australia        D       1    1.212187         0.507374   38\n",
              "Germany          E       5    1.587702         2.757573   11\n",
              "Japan            E       2    1.316872         0.956460   24\n",
              "Spain            E       7    1.800594         4.308494    7\n",
              "Costa Rica       E       1    1.294832         0.494129   31\n",
              "Morocco          F       3    1.286836         1.721451   22\n",
              "Croatia          F       6    1.616430         3.609045   12\n",
              "Belgium          F       9    1.980835         5.942505    2\n",
              "Canada           F       0    1.115899         0.000000   41\n",
              "Switzerland      G       4    1.498319         2.364041   15\n",
              "Cameroon         G       0    0.907432         0.000000   43\n",
              "Brazil           G       9    2.074918         6.224754    1\n",
              "Serbia           G       4    1.519330         2.475561   21\n",
              "Uruguay          H       7    1.749054         4.344559   14\n",
              "South Korea      H       3    1.353263         1.896976   28"
            ],
            "text/html": [
              "\n",
              "  <div id=\"df-f3a5c082-feed-4312-9880-b864285bd893\">\n",
              "    <div class=\"colab-df-container\">\n",
              "      <div>\n",
              "<style scoped>\n",
              "    .dataframe tbody tr th:only-of-type {\n",
              "        vertical-align: middle;\n",
              "    }\n",
              "\n",
              "    .dataframe tbody tr th {\n",
              "        vertical-align: top;\n",
              "    }\n",
              "\n",
              "    .dataframe thead th {\n",
              "        text-align: right;\n",
              "    }\n",
              "</style>\n",
              "<table border=\"1\" class=\"dataframe\">\n",
              "  <thead>\n",
              "    <tr style=\"text-align: right;\">\n",
              "      <th></th>\n",
              "      <th>Group</th>\n",
              "      <th>points</th>\n",
              "      <th>total_prob</th>\n",
              "      <th>expected points</th>\n",
              "      <th>rank</th>\n",
              "    </tr>\n",
              "    <tr>\n",
              "      <th>Team</th>\n",
              "      <th></th>\n",
              "      <th></th>\n",
              "      <th></th>\n",
              "      <th></th>\n",
              "      <th></th>\n",
              "    </tr>\n",
              "  </thead>\n",
              "  <tbody>\n",
              "    <tr>\n",
              "      <th>Senegal</th>\n",
              "      <td>A</td>\n",
              "      <td>6</td>\n",
              "      <td>1.652717</td>\n",
              "      <td>3.769552</td>\n",
              "      <td>18</td>\n",
              "    </tr>\n",
              "    <tr>\n",
              "      <th>Qatar</th>\n",
              "      <td>A</td>\n",
              "      <td>0</td>\n",
              "      <td>0.995105</td>\n",
              "      <td>0.000000</td>\n",
              "      <td>50</td>\n",
              "    </tr>\n",
              "    <tr>\n",
              "      <th>Netherlands</th>\n",
              "      <td>A</td>\n",
              "      <td>9</td>\n",
              "      <td>2.044719</td>\n",
              "      <td>6.134157</td>\n",
              "      <td>8</td>\n",
              "    </tr>\n",
              "    <tr>\n",
              "      <th>Ecuador</th>\n",
              "      <td>A</td>\n",
              "      <td>3</td>\n",
              "      <td>1.307459</td>\n",
              "      <td>1.756172</td>\n",
              "      <td>44</td>\n",
              "    </tr>\n",
              "    <tr>\n",
              "      <th>Iran</th>\n",
              "      <td>B</td>\n",
              "      <td>1</td>\n",
              "      <td>1.241503</td>\n",
              "      <td>0.467863</td>\n",
              "      <td>20</td>\n",
              "    </tr>\n",
              "    <tr>\n",
              "      <th>England</th>\n",
              "      <td>B</td>\n",
              "      <td>9</td>\n",
              "      <td>1.778189</td>\n",
              "      <td>5.334567</td>\n",
              "      <td>5</td>\n",
              "    </tr>\n",
              "    <tr>\n",
              "      <th>USA</th>\n",
              "      <td>B</td>\n",
              "      <td>4</td>\n",
              "      <td>1.522837</td>\n",
              "      <td>2.233308</td>\n",
              "      <td>16</td>\n",
              "    </tr>\n",
              "    <tr>\n",
              "      <th>Wales</th>\n",
              "      <td>B</td>\n",
              "      <td>2</td>\n",
              "      <td>1.457470</td>\n",
              "      <td>1.028857</td>\n",
              "      <td>19</td>\n",
              "    </tr>\n",
              "    <tr>\n",
              "      <th>Argentina</th>\n",
              "      <td>C</td>\n",
              "      <td>9</td>\n",
              "      <td>1.940232</td>\n",
              "      <td>5.820695</td>\n",
              "      <td>3</td>\n",
              "    </tr>\n",
              "    <tr>\n",
              "      <th>Saudi Arabia</th>\n",
              "      <td>C</td>\n",
              "      <td>0</td>\n",
              "      <td>0.793339</td>\n",
              "      <td>0.000000</td>\n",
              "      <td>51</td>\n",
              "    </tr>\n",
              "    <tr>\n",
              "      <th>Mexico</th>\n",
              "      <td>C</td>\n",
              "      <td>4</td>\n",
              "      <td>1.729906</td>\n",
              "      <td>2.789683</td>\n",
              "      <td>13</td>\n",
              "    </tr>\n",
              "    <tr>\n",
              "      <th>Poland</th>\n",
              "      <td>C</td>\n",
              "      <td>4</td>\n",
              "      <td>1.536523</td>\n",
              "      <td>2.571563</td>\n",
              "      <td>26</td>\n",
              "    </tr>\n",
              "    <tr>\n",
              "      <th>Denmark</th>\n",
              "      <td>D</td>\n",
              "      <td>6</td>\n",
              "      <td>1.664828</td>\n",
              "      <td>3.683837</td>\n",
              "      <td>10</td>\n",
              "    </tr>\n",
              "    <tr>\n",
              "      <th>Tunisia</th>\n",
              "      <td>D</td>\n",
              "      <td>1</td>\n",
              "      <td>1.192486</td>\n",
              "      <td>0.492626</td>\n",
              "      <td>30</td>\n",
              "    </tr>\n",
              "    <tr>\n",
              "      <th>France</th>\n",
              "      <td>D</td>\n",
              "      <td>9</td>\n",
              "      <td>1.930498</td>\n",
              "      <td>5.791494</td>\n",
              "      <td>4</td>\n",
              "    </tr>\n",
              "    <tr>\n",
              "      <th>Australia</th>\n",
              "      <td>D</td>\n",
              "      <td>1</td>\n",
              "      <td>1.212187</td>\n",
              "      <td>0.507374</td>\n",
              "      <td>38</td>\n",
              "    </tr>\n",
              "    <tr>\n",
              "      <th>Germany</th>\n",
              "      <td>E</td>\n",
              "      <td>5</td>\n",
              "      <td>1.587702</td>\n",
              "      <td>2.757573</td>\n",
              "      <td>11</td>\n",
              "    </tr>\n",
              "    <tr>\n",
              "      <th>Japan</th>\n",
              "      <td>E</td>\n",
              "      <td>2</td>\n",
              "      <td>1.316872</td>\n",
              "      <td>0.956460</td>\n",
              "      <td>24</td>\n",
              "    </tr>\n",
              "    <tr>\n",
              "      <th>Spain</th>\n",
              "      <td>E</td>\n",
              "      <td>7</td>\n",
              "      <td>1.800594</td>\n",
              "      <td>4.308494</td>\n",
              "      <td>7</td>\n",
              "    </tr>\n",
              "    <tr>\n",
              "      <th>Costa Rica</th>\n",
              "      <td>E</td>\n",
              "      <td>1</td>\n",
              "      <td>1.294832</td>\n",
              "      <td>0.494129</td>\n",
              "      <td>31</td>\n",
              "    </tr>\n",
              "    <tr>\n",
              "      <th>Morocco</th>\n",
              "      <td>F</td>\n",
              "      <td>3</td>\n",
              "      <td>1.286836</td>\n",
              "      <td>1.721451</td>\n",
              "      <td>22</td>\n",
              "    </tr>\n",
              "    <tr>\n",
              "      <th>Croatia</th>\n",
              "      <td>F</td>\n",
              "      <td>6</td>\n",
              "      <td>1.616430</td>\n",
              "      <td>3.609045</td>\n",
              "      <td>12</td>\n",
              "    </tr>\n",
              "    <tr>\n",
              "      <th>Belgium</th>\n",
              "      <td>F</td>\n",
              "      <td>9</td>\n",
              "      <td>1.980835</td>\n",
              "      <td>5.942505</td>\n",
              "      <td>2</td>\n",
              "    </tr>\n",
              "    <tr>\n",
              "      <th>Canada</th>\n",
              "      <td>F</td>\n",
              "      <td>0</td>\n",
              "      <td>1.115899</td>\n",
              "      <td>0.000000</td>\n",
              "      <td>41</td>\n",
              "    </tr>\n",
              "    <tr>\n",
              "      <th>Switzerland</th>\n",
              "      <td>G</td>\n",
              "      <td>4</td>\n",
              "      <td>1.498319</td>\n",
              "      <td>2.364041</td>\n",
              "      <td>15</td>\n",
              "    </tr>\n",
              "    <tr>\n",
              "      <th>Cameroon</th>\n",
              "      <td>G</td>\n",
              "      <td>0</td>\n",
              "      <td>0.907432</td>\n",
              "      <td>0.000000</td>\n",
              "      <td>43</td>\n",
              "    </tr>\n",
              "    <tr>\n",
              "      <th>Brazil</th>\n",
              "      <td>G</td>\n",
              "      <td>9</td>\n",
              "      <td>2.074918</td>\n",
              "      <td>6.224754</td>\n",
              "      <td>1</td>\n",
              "    </tr>\n",
              "    <tr>\n",
              "      <th>Serbia</th>\n",
              "      <td>G</td>\n",
              "      <td>4</td>\n",
              "      <td>1.519330</td>\n",
              "      <td>2.475561</td>\n",
              "      <td>21</td>\n",
              "    </tr>\n",
              "    <tr>\n",
              "      <th>Uruguay</th>\n",
              "      <td>H</td>\n",
              "      <td>7</td>\n",
              "      <td>1.749054</td>\n",
              "      <td>4.344559</td>\n",
              "      <td>14</td>\n",
              "    </tr>\n",
              "    <tr>\n",
              "      <th>South Korea</th>\n",
              "      <td>H</td>\n",
              "      <td>3</td>\n",
              "      <td>1.353263</td>\n",
              "      <td>1.896976</td>\n",
              "      <td>28</td>\n",
              "    </tr>\n",
              "  </tbody>\n",
              "</table>\n",
              "</div>\n",
              "      <button class=\"colab-df-convert\" onclick=\"convertToInteractive('df-f3a5c082-feed-4312-9880-b864285bd893')\"\n",
              "              title=\"Convert this dataframe to an interactive table.\"\n",
              "              style=\"display:none;\">\n",
              "        \n",
              "  <svg xmlns=\"http://www.w3.org/2000/svg\" height=\"24px\"viewBox=\"0 0 24 24\"\n",
              "       width=\"24px\">\n",
              "    <path d=\"M0 0h24v24H0V0z\" fill=\"none\"/>\n",
              "    <path d=\"M18.56 5.44l.94 2.06.94-2.06 2.06-.94-2.06-.94-.94-2.06-.94 2.06-2.06.94zm-11 1L8.5 8.5l.94-2.06 2.06-.94-2.06-.94L8.5 2.5l-.94 2.06-2.06.94zm10 10l.94 2.06.94-2.06 2.06-.94-2.06-.94-.94-2.06-.94 2.06-2.06.94z\"/><path d=\"M17.41 7.96l-1.37-1.37c-.4-.4-.92-.59-1.43-.59-.52 0-1.04.2-1.43.59L10.3 9.45l-7.72 7.72c-.78.78-.78 2.05 0 2.83L4 21.41c.39.39.9.59 1.41.59.51 0 1.02-.2 1.41-.59l7.78-7.78 2.81-2.81c.8-.78.8-2.07 0-2.86zM5.41 20L4 18.59l7.72-7.72 1.47 1.35L5.41 20z\"/>\n",
              "  </svg>\n",
              "      </button>\n",
              "      \n",
              "  <style>\n",
              "    .colab-df-container {\n",
              "      display:flex;\n",
              "      flex-wrap:wrap;\n",
              "      gap: 12px;\n",
              "    }\n",
              "\n",
              "    .colab-df-convert {\n",
              "      background-color: #E8F0FE;\n",
              "      border: none;\n",
              "      border-radius: 50%;\n",
              "      cursor: pointer;\n",
              "      display: none;\n",
              "      fill: #1967D2;\n",
              "      height: 32px;\n",
              "      padding: 0 0 0 0;\n",
              "      width: 32px;\n",
              "    }\n",
              "\n",
              "    .colab-df-convert:hover {\n",
              "      background-color: #E2EBFA;\n",
              "      box-shadow: 0px 1px 2px rgba(60, 64, 67, 0.3), 0px 1px 3px 1px rgba(60, 64, 67, 0.15);\n",
              "      fill: #174EA6;\n",
              "    }\n",
              "\n",
              "    [theme=dark] .colab-df-convert {\n",
              "      background-color: #3B4455;\n",
              "      fill: #D2E3FC;\n",
              "    }\n",
              "\n",
              "    [theme=dark] .colab-df-convert:hover {\n",
              "      background-color: #434B5C;\n",
              "      box-shadow: 0px 1px 3px 1px rgba(0, 0, 0, 0.15);\n",
              "      filter: drop-shadow(0px 1px 2px rgba(0, 0, 0, 0.3));\n",
              "      fill: #FFFFFF;\n",
              "    }\n",
              "  </style>\n",
              "\n",
              "      <script>\n",
              "        const buttonEl =\n",
              "          document.querySelector('#df-f3a5c082-feed-4312-9880-b864285bd893 button.colab-df-convert');\n",
              "        buttonEl.style.display =\n",
              "          google.colab.kernel.accessAllowed ? 'block' : 'none';\n",
              "\n",
              "        async function convertToInteractive(key) {\n",
              "          const element = document.querySelector('#df-f3a5c082-feed-4312-9880-b864285bd893');\n",
              "          const dataTable =\n",
              "            await google.colab.kernel.invokeFunction('convertToInteractive',\n",
              "                                                     [key], {});\n",
              "          if (!dataTable) return;\n",
              "\n",
              "          const docLinkHtml = 'Like what you see? Visit the ' +\n",
              "            '<a target=\"_blank\" href=https://colab.research.google.com/notebooks/data_table.ipynb>data table notebook</a>'\n",
              "            + ' to learn more about interactive tables.';\n",
              "          element.innerHTML = '';\n",
              "          dataTable['output_type'] = 'display_data';\n",
              "          await google.colab.output.renderOutput(dataTable, element);\n",
              "          const docLink = document.createElement('div');\n",
              "          docLink.innerHTML = docLinkHtml;\n",
              "          element.appendChild(docLink);\n",
              "        }\n",
              "      </script>\n",
              "    </div>\n",
              "  </div>\n",
              "  "
            ]
          },
          "metadata": {},
          "execution_count": 57
        }
      ]
    },
    {
      "cell_type": "code",
      "source": [
        "plt.figure()\n",
        "plt.scatter(world_cup['rank'], world_cup['total_prob'])\n",
        "plt.show()"
      ],
      "metadata": {
        "colab": {
          "base_uri": "https://localhost:8080/",
          "height": 265
        },
        "id": "DSO5SAXwfaQT",
        "outputId": "13d13889-30e0-4860-ef60-a52ae4933d90"
      },
      "execution_count": null,
      "outputs": [
        {
          "output_type": "display_data",
          "data": {
            "text/plain": [
              "<Figure size 432x288 with 1 Axes>"
            ],
            "image/png": "[encoded data removed]"
          },
          "metadata": {
            "needs_background": "light"
          }
        }
      ]
    },
    {
      "cell_type": "markdown",
      "metadata": {
        "id": "3kI7dTPPj5pW"
      },
      "source": [
        "1. Feature Extraction (4개) 다른 게 더 있는지?\n",
        "    - 1993년부터 사용하는 게 맞을까? 2002년부터는 어떨까?\n",
        "    - **선수들 연봉 총합, 상위 몇 명 가져오기** (1993년 ~ 그 때 연봉 총합 정보가 있어야 함, 기한을 줄이는 것 가능, 데이터를 구하는 건 어려울 듯)\n",
        "    - (Optional) 인구 수, GDP\n",
        "    - **배당률** (1993년부터 모든 경기 배당률 찾을 수 있을까?)\n",
        "    - FIFA 게임 내 선수 능력치\n",
        "    - 감독 연임 기간 (1년: 1점, 2년 이상: 2점 이런 식으로)\n",
        "    - 상대 전적 데이터 있음 \n",
        "    - **최근 5경기 몇 승 했는지**\n",
        "    - **피파 랭킹 변화량**\n",
        "\n",
        "    < 월드컵 관련 데이터 활용>\n",
        "    - 전 월드컵 성적\n",
        "    - 월드컵 예선 경기를 활용하는 건 어떤지?\n",
        "    - 0, 1, 2 (예시, 0:Friendly, 1: World Cup 예선, 2: World Cup 본선)\n",
        "    - is_stake, is_worldcup\n",
        "\n",
        "---\n",
        "\n",
        "2. Logistic Regression 만 사용하는데 다른 모델을 더 사용해서 Ensemble\n",
        "\n",
        "3. 6월 국제 경기까지만 반영, 그 이후 경기들도 가져와서 이 모델의 성능을 측정하는 것\n",
        "\n",
        "4. 결과값을 시각화하는 코드 (코드가 아니더라도 어떤 모양일지)\n",
        "\n",
        "---\n",
        "\n",
        "10월 6일까지 연봉 총합, 배당률 사용가능한지 알아보기 -> **불가능**\n",
        "\n",
        "가능하면 쓰고 불가능하면 최근 5경기, 피파 랭킹 변화량 사용"
      ]
    },
    {
      "cell_type": "markdown",
      "metadata": {
        "id": "Zstbq20tY86y"
      },
      "source": [
        "# 16강 진출 계산하는 아이디어\n",
        "\n",
        "1. 승점의 기댓값 계산 (확률로 나오지는 않음)\n",
        "2. 모든 경우의 수 계산\n",
        "   \n",
        "   2-1. 2승 1패, 3승, 2승 1무 이런 식으로 계산 (2승 1패면 0.8 곱하기, 1승 2무는 0.5 곱하기)\n",
        "\n",
        "   2-2. 모든 경우의 수 계산 (2-1 확장)\n",
        "\n",
        "\n",
        "2번 부가 설명\n",
        "4C2로 총 6번의 경기가 있게 되는데, 각 경기마다 홈 팀 승리 / 홈 팀 패배 / 홈 팀 무승부의 3가지 경우의 수가 있습니다.\n",
        "\n",
        "따라서 전체 경우의 수는 3^6 = 729가지입니다.\n",
        "\n",
        "전체 경우의 수 중에서 한국이 조 1위, 조 2위를 하는 경우가 있을 것입니다. (승점으로 계산하면 됩니다.) 이를 계산하면 됩니다.\n",
        "\n",
        "일단 한국이 16강에 진출할 확률을 0으로 초기화해봅시다.\n",
        "\n",
        "예를 들어, 한국이 3전 전승을 한 경우를 생각해봅시다.\n",
        "\n",
        "3번의 경기가 모두 독립 사건이라고 가정하면, 머신러닝을 통해 계산한 경기 승리할 확률을 모두 곱하면 3전 전승할 확률이 나오게 됩니다.\n",
        "\n",
        "(예시: 우루과이 전 승리할 확률 * 포르투갈 전 승리할 확률 * 가나 전 승리할 확률)\n",
        "\n",
        "또 예시를 하나 더 생각해봅시다. 한국이 우루과이, 가나 전에서 2승, 포르투갈 전에서 1패를 했다고 해봅시다. 머신러닝을 통해 기 승/패 확률을 구해 모두 곱하면 해당 상황이 일어날 확률이 나오게 됩니다.\n",
        "\n",
        "이 상황은 한국이 포르투갈 전에서 패배하긴 했지만, 승점 6점으로 16강에 진출할 수 있을 것입니다. 따라서 이 확률도 한국이 16강의 진출할 확률에 더해질 수 있습니다. \n",
        "\n",
        "한국이 조 1위, 조 2위 하는 경우를 모두 찾아서 그에 해당하는 확률을 곱셈법칙을 통해 구하고, 확률을 모두 합하면 한국이 16강에 진출할 확률이 계산됩니다.\n",
        "\n",
        "다만, 이 방법의 한계점은 승점이 같을 때 득실차를 고려하지는 못하기 때문에 이 부분에 대한 대처가 필요합니다. (예를 들어, 승점이 같을 때는 무조건 한국이 순위가 앞선다고 가정하는 것)\n",
        "\n",
        "---\n",
        "\n",
        "729가지 경우를 모두 계산해서\n",
        "승점을 모두 계산하고\n",
        "그 승점을 기준으로 조1위, 조2위 경우의 수\n",
        "\n"
      ]
    },
    {
      "cell_type": "markdown",
      "metadata": {
        "id": "x699ZJm7znMo"
      },
      "source": [
        "## 7. 모델 조정"
      ]
    },
    {
      "cell_type": "code",
      "execution_count": null,
      "metadata": {
        "id": "-lMDULp-zqXn"
      },
      "outputs": [],
      "source": []
    },
    {
      "cell_type": "markdown",
      "metadata": {
        "id": "zZHT6l86zq9Y"
      },
      "source": []
    }
  ],
  "metadata": {
    "colab": {
      "collapsed_sections": [],
      "provenance": [],
      "include_colab_link": true
    },
    "kernelspec": {
      "display_name": "Python 3",
      "name": "python3"
    },
    "language_info": {
      "name": "python"
    },
    "widgets": {
      "application/vnd.jupyter.widget-state+json": {
        "3a15068878344056bad49dab015c3eea": {
          "model_module": "@jupyter-widgets/controls",
          "model_name": "HBoxModel",
          "model_module_version": "1.5.0",
          "state": {
            "_dom_classes": [],
            "_model_module": "@jupyter-widgets/controls",
            "_model_module_version": "1.5.0",
            "_model_name": "HBoxModel",
            "_view_count": null,
            "_view_module": "@jupyter-widgets/controls",
            "_view_module_version": "1.5.0",
            "_view_name": "HBoxView",
            "box_style": "",
            "children": [
              "IPY_MODEL_0fad86133ff24e5c911c70acbbb7cef4",
              "IPY_MODEL_e876c5cc3c6b4242947a3d9a0387626f",
              "IPY_MODEL_67c2db90de0c4d2c85d01898e58a9205"
            ],
            "layout": "IPY_MODEL_3fc9e1467f5540fcaaa5b196bbb4f74c"
          }
        },
        "0fad86133ff24e5c911c70acbbb7cef4": {
          "model_module": "@jupyter-widgets/controls",
          "model_name": "HTMLModel",
          "model_module_version": "1.5.0",
          "state": {
            "_dom_classes": [],
            "_model_module": "@jupyter-widgets/controls",
            "_model_module_version": "1.5.0",
            "_model_name": "HTMLModel",
            "_view_count": null,
            "_view_module": "@jupyter-widgets/controls",
            "_view_module_version": "1.5.0",
            "_view_name": "HTMLView",
            "description": "",
            "description_tooltip": null,
            "layout": "IPY_MODEL_b0f169b899de41ff9e2122705ad66ee5",
            "placeholder": "​",
            "style": "IPY_MODEL_a39314bf59104f38bc98bb5dd750be8a",
            "value": "100%"
          }
        },
        "e876c5cc3c6b4242947a3d9a0387626f": {
          "model_module": "@jupyter-widgets/controls",
          "model_name": "FloatProgressModel",
          "model_module_version": "1.5.0",
          "state": {
            "_dom_classes": [],
            "_model_module": "@jupyter-widgets/controls",
            "_model_module_version": "1.5.0",
            "_model_name": "FloatProgressModel",
            "_view_count": null,
            "_view_module": "@jupyter-widgets/controls",
            "_view_module_version": "1.5.0",
            "_view_name": "ProgressView",
            "bar_style": "success",
            "description": "",
            "description_tooltip": null,
            "layout": "IPY_MODEL_ce86229e63ef4be19509eec0f737478e",
            "max": 23921,
            "min": 0,
            "orientation": "horizontal",
            "style": "IPY_MODEL_5d5e9705382d44dca2b45d58f92c947d",
            "value": 23921
          }
        },
        "67c2db90de0c4d2c85d01898e58a9205": {
          "model_module": "@jupyter-widgets/controls",
          "model_name": "HTMLModel",
          "model_module_version": "1.5.0",
          "state": {
            "_dom_classes": [],
            "_model_module": "@jupyter-widgets/controls",
            "_model_module_version": "1.5.0",
            "_model_name": "HTMLModel",
            "_view_count": null,
            "_view_module": "@jupyter-widgets/controls",
            "_view_module_version": "1.5.0",
            "_view_name": "HTMLView",
            "description": "",
            "description_tooltip": null,
            "layout": "IPY_MODEL_6ad14ad32a5f4b2c91f7ab07e42a2f20",
            "placeholder": "​",
            "style": "IPY_MODEL_537967e301c848498be42cbb0ead1dcd",
            "value": " 23921/23921 [18:37&lt;00:00, 21.10it/s]"
          }
        },
        "3fc9e1467f5540fcaaa5b196bbb4f74c": {
          "model_module": "@jupyter-widgets/base",
          "model_name": "LayoutModel",
          "model_module_version": "1.2.0",
          "state": {
            "_model_module": "@jupyter-widgets/base",
            "_model_module_version": "1.2.0",
            "_model_name": "LayoutModel",
            "_view_count": null,
            "_view_module": "@jupyter-widgets/base",
            "_view_module_version": "1.2.0",
            "_view_name": "LayoutView",
            "align_content": null,
            "align_items": null,
            "align_self": null,
            "border": null,
            "bottom": null,
            "display": null,
            "flex": null,
            "flex_flow": null,
            "grid_area": null,
            "grid_auto_columns": null,
            "grid_auto_flow": null,
            "grid_auto_rows": null,
            "grid_column": null,
            "grid_gap": null,
            "grid_row": null,
            "grid_template_areas": null,
            "grid_template_columns": null,
            "grid_template_rows": null,
            "height": null,
            "justify_content": null,
            "justify_items": null,
            "left": null,
            "margin": null,
            "max_height": null,
            "max_width": null,
            "min_height": null,
            "min_width": null,
            "object_fit": null,
            "object_position": null,
            "order": null,
            "overflow": null,
            "overflow_x": null,
            "overflow_y": null,
            "padding": null,
            "right": null,
            "top": null,
            "visibility": null,
            "width": null
          }
        },
        "b0f169b899de41ff9e2122705ad66ee5": {
          "model_module": "@jupyter-widgets/base",
          "model_name": "LayoutModel",
          "model_module_version": "1.2.0",
          "state": {
            "_model_module": "@jupyter-widgets/base",
            "_model_module_version": "1.2.0",
            "_model_name": "LayoutModel",
            "_view_count": null,
            "_view_module": "@jupyter-widgets/base",
            "_view_module_version": "1.2.0",
            "_view_name": "LayoutView",
            "align_content": null,
            "align_items": null,
            "align_self": null,
            "border": null,
            "bottom": null,
            "display": null,
            "flex": null,
            "flex_flow": null,
            "grid_area": null,
            "grid_auto_columns": null,
            "grid_auto_flow": null,
            "grid_auto_rows": null,
            "grid_column": null,
            "grid_gap": null,
            "grid_row": null,
            "grid_template_areas": null,
            "grid_template_columns": null,
            "grid_template_rows": null,
            "height": null,
            "justify_content": null,
            "justify_items": null,
            "left": null,
            "margin": null,
            "max_height": null,
            "max_width": null,
            "min_height": null,
            "min_width": null,
            "object_fit": null,
            "object_position": null,
            "order": null,
            "overflow": null,
            "overflow_x": null,
            "overflow_y": null,
            "padding": null,
            "right": null,
            "top": null,
            "visibility": null,
            "width": null
          }
        },
        "a39314bf59104f38bc98bb5dd750be8a": {
          "model_module": "@jupyter-widgets/controls",
          "model_name": "DescriptionStyleModel",
          "model_module_version": "1.5.0",
          "state": {
            "_model_module": "@jupyter-widgets/controls",
            "_model_module_version": "1.5.0",
            "_model_name": "DescriptionStyleModel",
            "_view_count": null,
            "_view_module": "@jupyter-widgets/base",
            "_view_module_version": "1.2.0",
            "_view_name": "StyleView",
            "description_width": ""
          }
        },
        "ce86229e63ef4be19509eec0f737478e": {
          "model_module": "@jupyter-widgets/base",
          "model_name": "LayoutModel",
          "model_module_version": "1.2.0",
          "state": {
            "_model_module": "@jupyter-widgets/base",
            "_model_module_version": "1.2.0",
            "_model_name": "LayoutModel",
            "_view_count": null,
            "_view_module": "@jupyter-widgets/base",
            "_view_module_version": "1.2.0",
            "_view_name": "LayoutView",
            "align_content": null,
            "align_items": null,
            "align_self": null,
            "border": null,
            "bottom": null,
            "display": null,
            "flex": null,
            "flex_flow": null,
            "grid_area": null,
            "grid_auto_columns": null,
            "grid_auto_flow": null,
            "grid_auto_rows": null,
            "grid_column": null,
            "grid_gap": null,
            "grid_row": null,
            "grid_template_areas": null,
            "grid_template_columns": null,
            "grid_template_rows": null,
            "height": null,
            "justify_content": null,
            "justify_items": null,
            "left": null,
            "margin": null,
            "max_height": null,
            "max_width": null,
            "min_height": null,
            "min_width": null,
            "object_fit": null,
            "object_position": null,
            "order": null,
            "overflow": null,
            "overflow_x": null,
            "overflow_y": null,
            "padding": null,
            "right": null,
            "top": null,
            "visibility": null,
            "width": null
          }
        },
        "5d5e9705382d44dca2b45d58f92c947d": {
          "model_module": "@jupyter-widgets/controls",
          "model_name": "ProgressStyleModel",
          "model_module_version": "1.5.0",
          "state": {
            "_model_module": "@jupyter-widgets/controls",
            "_model_module_version": "1.5.0",
            "_model_name": "ProgressStyleModel",
            "_view_count": null,
            "_view_module": "@jupyter-widgets/base",
            "_view_module_version": "1.2.0",
            "_view_name": "StyleView",
            "bar_color": null,
            "description_width": ""
          }
        },
        "6ad14ad32a5f4b2c91f7ab07e42a2f20": {
          "model_module": "@jupyter-widgets/base",
          "model_name": "LayoutModel",
          "model_module_version": "1.2.0",
          "state": {
            "_model_module": "@jupyter-widgets/base",
            "_model_module_version": "1.2.0",
            "_model_name": "LayoutModel",
            "_view_count": null,
            "_view_module": "@jupyter-widgets/base",
            "_view_module_version": "1.2.0",
            "_view_name": "LayoutView",
            "align_content": null,
            "align_items": null,
            "align_self": null,
            "border": null,
            "bottom": null,
            "display": null,
            "flex": null,
            "flex_flow": null,
            "grid_area": null,
            "grid_auto_columns": null,
            "grid_auto_flow": null,
            "grid_auto_rows": null,
            "grid_column": null,
            "grid_gap": null,
            "grid_row": null,
            "grid_template_areas": null,
            "grid_template_columns": null,
            "grid_template_rows": null,
            "height": null,
            "justify_content": null,
            "justify_items": null,
            "left": null,
            "margin": null,
            "max_height": null,
            "max_width": null,
            "min_height": null,
            "min_width": null,
            "object_fit": null,
            "object_position": null,
            "order": null,
            "overflow": null,
            "overflow_x": null,
            "overflow_y": null,
            "padding": null,
            "right": null,
            "top": null,
            "visibility": null,
            "width": null
          }
        },
        "537967e301c848498be42cbb0ead1dcd": {
          "model_module": "@jupyter-widgets/controls",
          "model_name": "DescriptionStyleModel",
          "model_module_version": "1.5.0",
          "state": {
            "_model_module": "@jupyter-widgets/controls",
            "_model_module_version": "1.5.0",
            "_model_name": "DescriptionStyleModel",
            "_view_count": null,
            "_view_module": "@jupyter-widgets/base",
            "_view_module_version": "1.2.0",
            "_view_name": "StyleView",
            "description_width": ""
          }
        },
        "a6bc2b3316ac47e9a475a2703f0f7e8a": {
          "model_module": "@jupyter-widgets/controls",
          "model_name": "HBoxModel",
          "model_module_version": "1.5.0",
          "state": {
            "_dom_classes": [],
            "_model_module": "@jupyter-widgets/controls",
            "_model_module_version": "1.5.0",
            "_model_name": "HBoxModel",
            "_view_count": null,
            "_view_module": "@jupyter-widgets/controls",
            "_view_module_version": "1.5.0",
            "_view_name": "HBoxView",
            "box_style": "",
            "children": [
              "IPY_MODEL_d48616b3a3974910825c5f7eb2ac0c92",
              "IPY_MODEL_e5b6cfcd563f4acea4fe6de5e294f6c8",
              "IPY_MODEL_3763505c5bcc4c82b59fa19ee92c4760"
            ],
            "layout": "IPY_MODEL_7fd4f8430fc64a71883a518594f04d33"
          }
        },
        "d48616b3a3974910825c5f7eb2ac0c92": {
          "model_module": "@jupyter-widgets/controls",
          "model_name": "HTMLModel",
          "model_module_version": "1.5.0",
          "state": {
            "_dom_classes": [],
            "_model_module": "@jupyter-widgets/controls",
            "_model_module_version": "1.5.0",
            "_model_name": "HTMLModel",
            "_view_count": null,
            "_view_module": "@jupyter-widgets/controls",
            "_view_module_version": "1.5.0",
            "_view_name": "HTMLView",
            "description": "",
            "description_tooltip": null,
            "layout": "IPY_MODEL_ae650532525b454c9601003cc0cd64ba",
            "placeholder": "​",
            "style": "IPY_MODEL_7cf1f88d63fc4ee4a2af27425d6d8096",
            "value": "100%"
          }
        },
        "e5b6cfcd563f4acea4fe6de5e294f6c8": {
          "model_module": "@jupyter-widgets/controls",
          "model_name": "FloatProgressModel",
          "model_module_version": "1.5.0",
          "state": {
            "_dom_classes": [],
            "_model_module": "@jupyter-widgets/controls",
            "_model_module_version": "1.5.0",
            "_model_name": "FloatProgressModel",
            "_view_count": null,
            "_view_module": "@jupyter-widgets/controls",
            "_view_module_version": "1.5.0",
            "_view_name": "ProgressView",
            "bar_style": "success",
            "description": "",
            "description_tooltip": null,
            "layout": "IPY_MODEL_c0881befdac347b3b6a6f51590955598",
            "max": 23921,
            "min": 0,
            "orientation": "horizontal",
            "style": "IPY_MODEL_1099801abdea4716a641da635f9a1742",
            "value": 23921
          }
        },
        "3763505c5bcc4c82b59fa19ee92c4760": {
          "model_module": "@jupyter-widgets/controls",
          "model_name": "HTMLModel",
          "model_module_version": "1.5.0",
          "state": {
            "_dom_classes": [],
            "_model_module": "@jupyter-widgets/controls",
            "_model_module_version": "1.5.0",
            "_model_name": "HTMLModel",
            "_view_count": null,
            "_view_module": "@jupyter-widgets/controls",
            "_view_module_version": "1.5.0",
            "_view_name": "HTMLView",
            "description": "",
            "description_tooltip": null,
            "layout": "IPY_MODEL_26d2ffb7151b43bab022f64ad8810958",
            "placeholder": "​",
            "style": "IPY_MODEL_08bdf73b682c4b428877360cbfcb52bf",
            "value": " 23921/23921 [07:25&lt;00:00, 39.07it/s]"
          }
        },
        "7fd4f8430fc64a71883a518594f04d33": {
          "model_module": "@jupyter-widgets/base",
          "model_name": "LayoutModel",
          "model_module_version": "1.2.0",
          "state": {
            "_model_module": "@jupyter-widgets/base",
            "_model_module_version": "1.2.0",
            "_model_name": "LayoutModel",
            "_view_count": null,
            "_view_module": "@jupyter-widgets/base",
            "_view_module_version": "1.2.0",
            "_view_name": "LayoutView",
            "align_content": null,
            "align_items": null,
            "align_self": null,
            "border": null,
            "bottom": null,
            "display": null,
            "flex": null,
            "flex_flow": null,
            "grid_area": null,
            "grid_auto_columns": null,
            "grid_auto_flow": null,
            "grid_auto_rows": null,
            "grid_column": null,
            "grid_gap": null,
            "grid_row": null,
            "grid_template_areas": null,
            "grid_template_columns": null,
            "grid_template_rows": null,
            "height": null,
            "justify_content": null,
            "justify_items": null,
            "left": null,
            "margin": null,
            "max_height": null,
            "max_width": null,
            "min_height": null,
            "min_width": null,
            "object_fit": null,
            "object_position": null,
            "order": null,
            "overflow": null,
            "overflow_x": null,
            "overflow_y": null,
            "padding": null,
            "right": null,
            "top": null,
            "visibility": null,
            "width": null
          }
        },
        "ae650532525b454c9601003cc0cd64ba": {
          "model_module": "@jupyter-widgets/base",
          "model_name": "LayoutModel",
          "model_module_version": "1.2.0",
          "state": {
            "_model_module": "@jupyter-widgets/base",
            "_model_module_version": "1.2.0",
            "_model_name": "LayoutModel",
            "_view_count": null,
            "_view_module": "@jupyter-widgets/base",
            "_view_module_version": "1.2.0",
            "_view_name": "LayoutView",
            "align_content": null,
            "align_items": null,
            "align_self": null,
            "border": null,
            "bottom": null,
            "display": null,
            "flex": null,
            "flex_flow": null,
            "grid_area": null,
            "grid_auto_columns": null,
            "grid_auto_flow": null,
            "grid_auto_rows": null,
            "grid_column": null,
            "grid_gap": null,
            "grid_row": null,
            "grid_template_areas": null,
            "grid_template_columns": null,
            "grid_template_rows": null,
            "height": null,
            "justify_content": null,
            "justify_items": null,
            "left": null,
            "margin": null,
            "max_height": null,
            "max_width": null,
            "min_height": null,
            "min_width": null,
            "object_fit": null,
            "object_position": null,
            "order": null,
            "overflow": null,
            "overflow_x": null,
            "overflow_y": null,
            "padding": null,
            "right": null,
            "top": null,
            "visibility": null,
            "width": null
          }
        },
        "7cf1f88d63fc4ee4a2af27425d6d8096": {
          "model_module": "@jupyter-widgets/controls",
          "model_name": "DescriptionStyleModel",
          "model_module_version": "1.5.0",
          "state": {
            "_model_module": "@jupyter-widgets/controls",
            "_model_module_version": "1.5.0",
            "_model_name": "DescriptionStyleModel",
            "_view_count": null,
            "_view_module": "@jupyter-widgets/base",
            "_view_module_version": "1.2.0",
            "_view_name": "StyleView",
            "description_width": ""
          }
        },
        "c0881befdac347b3b6a6f51590955598": {
          "model_module": "@jupyter-widgets/base",
          "model_name": "LayoutModel",
          "model_module_version": "1.2.0",
          "state": {
            "_model_module": "@jupyter-widgets/base",
            "_model_module_version": "1.2.0",
            "_model_name": "LayoutModel",
            "_view_count": null,
            "_view_module": "@jupyter-widgets/base",
            "_view_module_version": "1.2.0",
            "_view_name": "LayoutView",
            "align_content": null,
            "align_items": null,
            "align_self": null,
            "border": null,
            "bottom": null,
            "display": null,
            "flex": null,
            "flex_flow": null,
            "grid_area": null,
            "grid_auto_columns": null,
            "grid_auto_flow": null,
            "grid_auto_rows": null,
            "grid_column": null,
            "grid_gap": null,
            "grid_row": null,
            "grid_template_areas": null,
            "grid_template_columns": null,
            "grid_template_rows": null,
            "height": null,
            "justify_content": null,
            "justify_items": null,
            "left": null,
            "margin": null,
            "max_height": null,
            "max_width": null,
            "min_height": null,
            "min_width": null,
            "object_fit": null,
            "object_position": null,
            "order": null,
            "overflow": null,
            "overflow_x": null,
            "overflow_y": null,
            "padding": null,
            "right": null,
            "top": null,
            "visibility": null,
            "width": null
          }
        },
        "1099801abdea4716a641da635f9a1742": {
          "model_module": "@jupyter-widgets/controls",
          "model_name": "ProgressStyleModel",
          "model_module_version": "1.5.0",
          "state": {
            "_model_module": "@jupyter-widgets/controls",
            "_model_module_version": "1.5.0",
            "_model_name": "ProgressStyleModel",
            "_view_count": null,
            "_view_module": "@jupyter-widgets/base",
            "_view_module_version": "1.2.0",
            "_view_name": "StyleView",
            "bar_color": null,
            "description_width": ""
          }
        },
        "26d2ffb7151b43bab022f64ad8810958": {
          "model_module": "@jupyter-widgets/base",
          "model_name": "LayoutModel",
          "model_module_version": "1.2.0",
          "state": {
            "_model_module": "@jupyter-widgets/base",
            "_model_module_version": "1.2.0",
            "_model_name": "LayoutModel",
            "_view_count": null,
            "_view_module": "@jupyter-widgets/base",
            "_view_module_version": "1.2.0",
            "_view_name": "LayoutView",
            "align_content": null,
            "align_items": null,
            "align_self": null,
            "border": null,
            "bottom": null,
            "display": null,
            "flex": null,
            "flex_flow": null,
            "grid_area": null,
            "grid_auto_columns": null,
            "grid_auto_flow": null,
            "grid_auto_rows": null,
            "grid_column": null,
            "grid_gap": null,
            "grid_row": null,
            "grid_template_areas": null,
            "grid_template_columns": null,
            "grid_template_rows": null,
            "height": null,
            "justify_content": null,
            "justify_items": null,
            "left": null,
            "margin": null,
            "max_height": null,
            "max_width": null,
            "min_height": null,
            "min_width": null,
            "object_fit": null,
            "object_position": null,
            "order": null,
            "overflow": null,
            "overflow_x": null,
            "overflow_y": null,
            "padding": null,
            "right": null,
            "top": null,
            "visibility": null,
            "width": null
          }
        },
        "08bdf73b682c4b428877360cbfcb52bf": {
          "model_module": "@jupyter-widgets/controls",
          "model_name": "DescriptionStyleModel",
          "model_module_version": "1.5.0",
          "state": {
            "_model_module": "@jupyter-widgets/controls",
            "_model_module_version": "1.5.0",
            "_model_name": "DescriptionStyleModel",
            "_view_count": null,
            "_view_module": "@jupyter-widgets/base",
            "_view_module_version": "1.2.0",
            "_view_name": "StyleView",
            "description_width": ""
          }
        }
      }
    }
  },
  "nbformat": 4,
  "nbformat_minor": 0
}